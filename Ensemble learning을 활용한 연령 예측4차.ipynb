{
 "cells": [
  {
   "cell_type": "code",
   "execution_count": 4,
   "metadata": {
    "scrolled": true
   },
   "outputs": [
    {
     "name": "stderr",
     "output_type": "stream",
     "text": [
      "\n",
      "Bad key \"text.kerning_factor\" on line 4 in\n",
      "/home/ml/anaconda3/lib/python3.6/site-packages/matplotlib/mpl-data/stylelib/_classic_test_patch.mplstyle.\n",
      "You probably need to get an updated matplotlibrc file from\n",
      "http://github.com/matplotlib/matplotlib/blob/master/matplotlibrc.template\n",
      "or from the matplotlib source distribution\n"
     ]
    }
   ],
   "source": [
    "import os\n",
    "import pandas as pd\n",
    "import numpy as np\n",
    "from sklearn.model_selection import train_test_split\n",
    "from sklearn.metrics import accuracy_score\n",
    "import time\n",
    "import pyodbc\n",
    "import seaborn as sns\n",
    "import matplotlib.pyplot as plt\n",
    "from matplotlib.colors import ListedColormap\n",
    "from sklearn import neighbors, datasets"
   ]
  },
  {
   "cell_type": "code",
   "execution_count": 5,
   "metadata": {
    "scrolled": false
   },
   "outputs": [
    {
     "data": {
      "text/plain": [
       "'/home/ml/oneman/yongmin/ASAS_김용민/ASAS 반영용'"
      ]
     },
     "execution_count": 5,
     "metadata": {},
     "output_type": "execute_result"
    }
   ],
   "source": [
    "# 현재경로 확인\n",
    "os.getcwd()"
   ]
  },
  {
   "cell_type": "code",
   "execution_count": 15,
   "metadata": {},
   "outputs": [],
   "source": [
    "server = '192.168.212.242' \n",
    "database = 'MARTDB' \n",
    "username = 'dbadmin' \n",
    "password = '#mdbdpsnfl0816' \n",
    "conn = pyodbc.connect('DRIVER={ODBC Driver 13 for SQL Server};SERVER='+server+';DATABASE='+database+';UID='+username+';PWD='+ password, autocommit = True)\n",
    "cur = conn.cursor()"
   ]
  },
  {
   "cell_type": "code",
   "execution_count": 16,
   "metadata": {},
   "outputs": [
    {
     "name": "stdout",
     "output_type": "stream",
     "text": [
      "Runtime: 18.78 Minutes\n"
     ]
    }
   ],
   "source": [
    "'''연령'''\n",
    "\n",
    "start_vect=time.time()\n",
    "\n",
    "##데이터 불러오기\n",
    "query='''SET TRANSACTION ISOLATION LEVEL READ UNCOMMITTED     \n",
    "         SELECT ITG_USER_ID,GENDER_CODE,age,[FILTER],SUM(AMT) OVER (PARTITION BY ITG_USER_ID ORDER BY ITG_USER_ID) AS AMT\n",
    "         ,CASE WHEN [02]>0 THEN 1 ELSE 0 END AS [02]\n",
    ",CASE WHEN [0201]>0 THEN 1 ELSE 0 END AS [0201]\n",
    ",CASE WHEN [0203]>0 THEN 1 ELSE 0 END AS [0203]\n",
    ",CASE WHEN [0204]>0 THEN 1 ELSE 0 END AS [0204]\n",
    ",CASE WHEN [0208]>0 THEN 1 ELSE 0 END AS [0208]\n",
    ",CASE WHEN [0211]>0 THEN 1 ELSE 0 END AS [0211]\n",
    ",CASE WHEN [0215]>0 THEN 1 ELSE 0 END AS [0215]\n",
    ",CASE WHEN [0220]>0 THEN 1 ELSE 0 END AS [0220]\n",
    ",CASE WHEN [0224]>0 THEN 1 ELSE 0 END AS [0224]\n",
    ",CASE WHEN [0232]>0 THEN 1 ELSE 0 END AS [0232]\n",
    ",CASE WHEN [0233]>0 THEN 1 ELSE 0 END AS [0233]\n",
    ",CASE WHEN [0234]>0 THEN 1 ELSE 0 END AS [0234]\n",
    ",CASE WHEN [0235]>0 THEN 1 ELSE 0 END AS [0235]\n",
    ",CASE WHEN [0236]>0 THEN 1 ELSE 0 END AS [0236]\n",
    ",CASE WHEN [0237]>0 THEN 1 ELSE 0 END AS [0237]\n",
    ",CASE WHEN [0238]>0 THEN 1 ELSE 0 END AS [0238]\n",
    ",CASE WHEN [0239]>0 THEN 1 ELSE 0 END AS [0239]\n",
    ",CASE WHEN [0240]>0 THEN 1 ELSE 0 END AS [0240]\n",
    ",CASE WHEN [0241]>0 THEN 1 ELSE 0 END AS [0241]\n",
    ",CASE WHEN [0283]>0 THEN 1 ELSE 0 END AS [0283]\n",
    ",CASE WHEN [03  ]>0 THEN 1 ELSE 0 END AS [03  ]\n",
    ",CASE WHEN [0304]>0 THEN 1 ELSE 0 END AS [0304]\n",
    ",CASE WHEN [0305]>0 THEN 1 ELSE 0 END AS [0305]\n",
    ",CASE WHEN [0308]>0 THEN 1 ELSE 0 END AS [0308]\n",
    ",CASE WHEN [0318]>0 THEN 1 ELSE 0 END AS [0318]\n",
    ",CASE WHEN [0357]>0 THEN 1 ELSE 0 END AS [0357]\n",
    ",CASE WHEN [0359]>0 THEN 1 ELSE 0 END AS [0359]\n",
    ",CASE WHEN [0360]>0 THEN 1 ELSE 0 END AS [0360]\n",
    ",CASE WHEN [0362]>0 THEN 1 ELSE 0 END AS [0362]\n",
    ",CASE WHEN [0363]>0 THEN 1 ELSE 0 END AS [0363]\n",
    ",CASE WHEN [0364]>0 THEN 1 ELSE 0 END AS [0364]\n",
    ",CASE WHEN [04  ]>0 THEN 1 ELSE 0 END AS [04  ]\n",
    ",CASE WHEN [0401]>0 THEN 1 ELSE 0 END AS [0401]\n",
    ",CASE WHEN [0402]>0 THEN 1 ELSE 0 END AS [0402]\n",
    ",CASE WHEN [0404]>0 THEN 1 ELSE 0 END AS [0404]\n",
    ",CASE WHEN [0405]>0 THEN 1 ELSE 0 END AS [0405]\n",
    ",CASE WHEN [0408]>0 THEN 1 ELSE 0 END AS [0408]\n",
    ",CASE WHEN [0414]>0 THEN 1 ELSE 0 END AS [0414]\n",
    ",CASE WHEN [0418]>0 THEN 1 ELSE 0 END AS [0418]\n",
    ",CASE WHEN [0420]>0 THEN 1 ELSE 0 END AS [0420]\n",
    ",CASE WHEN [0421]>0 THEN 1 ELSE 0 END AS [0421]\n",
    ",CASE WHEN [0422]>0 THEN 1 ELSE 0 END AS [0422]\n",
    ",CASE WHEN [0423]>0 THEN 1 ELSE 0 END AS [0423]\n",
    ",CASE WHEN [05  ]>0 THEN 1 ELSE 0 END AS [05  ]\n",
    ",CASE WHEN [0502]>0 THEN 1 ELSE 0 END AS [0502]\n",
    ",CASE WHEN [0503]>0 THEN 1 ELSE 0 END AS [0503]\n",
    ",CASE WHEN [0507]>0 THEN 1 ELSE 0 END AS [0507]\n",
    ",CASE WHEN [0508]>0 THEN 1 ELSE 0 END AS [0508]\n",
    ",CASE WHEN [0510]>0 THEN 1 ELSE 0 END AS [0510]\n",
    ",CASE WHEN [0511]>0 THEN 1 ELSE 0 END AS [0511]\n",
    ",CASE WHEN [0513]>0 THEN 1 ELSE 0 END AS [0513]\n",
    ",CASE WHEN [0514]>0 THEN 1 ELSE 0 END AS [0514]\n",
    ",CASE WHEN [0515]>0 THEN 1 ELSE 0 END AS [0515]\n",
    ",CASE WHEN [0521]>0 THEN 1 ELSE 0 END AS [0521]\n",
    ",CASE WHEN [0526]>0 THEN 1 ELSE 0 END AS [0526]\n",
    ",CASE WHEN [0527]>0 THEN 1 ELSE 0 END AS [0527]\n",
    ",CASE WHEN [0550]>0 THEN 1 ELSE 0 END AS [0550]\n",
    ",CASE WHEN [06  ]>0 THEN 1 ELSE 0 END AS [06  ]\n",
    ",CASE WHEN [0601]>0 THEN 1 ELSE 0 END AS [0601]\n",
    ",CASE WHEN [0602]>0 THEN 1 ELSE 0 END AS [0602]\n",
    ",CASE WHEN [0603]>0 THEN 1 ELSE 0 END AS [0603]\n",
    ",CASE WHEN [0605]>0 THEN 1 ELSE 0 END AS [0605]\n",
    ",CASE WHEN [0606]>0 THEN 1 ELSE 0 END AS [0606]\n",
    ",CASE WHEN [0607]>0 THEN 1 ELSE 0 END AS [0607]\n",
    ",CASE WHEN [0608]>0 THEN 1 ELSE 0 END AS [0608]\n",
    ",CASE WHEN [0609]>0 THEN 1 ELSE 0 END AS [0609]\n",
    ",CASE WHEN [061 ]>0 THEN 1 ELSE 0 END AS [061 ]\n",
    ",CASE WHEN [0610]>0 THEN 1 ELSE 0 END AS [0610]\n",
    ",CASE WHEN [0611]>0 THEN 1 ELSE 0 END AS [0611]\n",
    ",CASE WHEN [0621]>0 THEN 1 ELSE 0 END AS [0621]\n",
    ",CASE WHEN [0690]>0 THEN 1 ELSE 0 END AS [0690]\n",
    ",CASE WHEN [07  ]>0 THEN 1 ELSE 0 END AS [07  ]\n",
    ",CASE WHEN [0701]>0 THEN 1 ELSE 0 END AS [0701]\n",
    ",CASE WHEN [0702]>0 THEN 1 ELSE 0 END AS [0702]\n",
    ",CASE WHEN [0703]>0 THEN 1 ELSE 0 END AS [0703]\n",
    ",CASE WHEN [0704]>0 THEN 1 ELSE 0 END AS [0704]\n",
    ",CASE WHEN [0705]>0 THEN 1 ELSE 0 END AS [0705]\n",
    ",CASE WHEN [0707]>0 THEN 1 ELSE 0 END AS [0707]\n",
    ",CASE WHEN [0708]>0 THEN 1 ELSE 0 END AS [0708]\n",
    ",CASE WHEN [0709]>0 THEN 1 ELSE 0 END AS [0709]\n",
    ",CASE WHEN [0710]>0 THEN 1 ELSE 0 END AS [0710]\n",
    ",CASE WHEN [0711]>0 THEN 1 ELSE 0 END AS [0711]\n",
    ",CASE WHEN [0712]>0 THEN 1 ELSE 0 END AS [0712]\n",
    ",CASE WHEN [0713]>0 THEN 1 ELSE 0 END AS [0713]\n",
    ",CASE WHEN [0715]>0 THEN 1 ELSE 0 END AS [0715]\n",
    ",CASE WHEN [0717]>0 THEN 1 ELSE 0 END AS [0717]\n",
    ",CASE WHEN [0718]>0 THEN 1 ELSE 0 END AS [0718]\n",
    ",CASE WHEN [0719]>0 THEN 1 ELSE 0 END AS [0719]\n",
    ",CASE WHEN [0720]>0 THEN 1 ELSE 0 END AS [0720]\n",
    ",CASE WHEN [08  ]>0 THEN 1 ELSE 0 END AS [08  ]\n",
    ",CASE WHEN [0801]>0 THEN 1 ELSE 0 END AS [0801]\n",
    ",CASE WHEN [0802]>0 THEN 1 ELSE 0 END AS [0802]\n",
    ",CASE WHEN [0803]>0 THEN 1 ELSE 0 END AS [0803]\n",
    ",CASE WHEN [0804]>0 THEN 1 ELSE 0 END AS [0804]\n",
    ",CASE WHEN [0805]>0 THEN 1 ELSE 0 END AS [0805]\n",
    ",CASE WHEN [0806]>0 THEN 1 ELSE 0 END AS [0806]\n",
    ",CASE WHEN [0807]>0 THEN 1 ELSE 0 END AS [0807]\n",
    ",CASE WHEN [0808]>0 THEN 1 ELSE 0 END AS [0808]\n",
    ",CASE WHEN [0809]>0 THEN 1 ELSE 0 END AS [0809]\n",
    ",CASE WHEN [0810]>0 THEN 1 ELSE 0 END AS [0810]\n",
    ",CASE WHEN [0812]>0 THEN 1 ELSE 0 END AS [0812]\n",
    ",CASE WHEN [0813]>0 THEN 1 ELSE 0 END AS [0813]\n",
    ",CASE WHEN [0814]>0 THEN 1 ELSE 0 END AS [0814]\n",
    ",CASE WHEN [0860]>0 THEN 1 ELSE 0 END AS [0860]\n",
    ",CASE WHEN [09  ]>0 THEN 1 ELSE 0 END AS [09  ]\n",
    ",CASE WHEN [0901]>0 THEN 1 ELSE 0 END AS [0901]\n",
    ",CASE WHEN [0902]>0 THEN 1 ELSE 0 END AS [0902]\n",
    ",CASE WHEN [0903]>0 THEN 1 ELSE 0 END AS [0903]\n",
    ",CASE WHEN [0904]>0 THEN 1 ELSE 0 END AS [0904]\n",
    ",CASE WHEN [0905]>0 THEN 1 ELSE 0 END AS [0905]\n",
    ",CASE WHEN [0906]>0 THEN 1 ELSE 0 END AS [0906]\n",
    ",CASE WHEN [0907]>0 THEN 1 ELSE 0 END AS [0907]\n",
    ",CASE WHEN [0908]>0 THEN 1 ELSE 0 END AS [0908]\n",
    ",CASE WHEN [0909]>0 THEN 1 ELSE 0 END AS [0909]\n",
    ",CASE WHEN [0911]>0 THEN 1 ELSE 0 END AS [0911]\n",
    ",CASE WHEN [0912]>0 THEN 1 ELSE 0 END AS [0912]\n",
    ",CASE WHEN [0913]>0 THEN 1 ELSE 0 END AS [0913]\n",
    ",CASE WHEN [0915]>0 THEN 1 ELSE 0 END AS [0915]\n",
    ",CASE WHEN [0918]>0 THEN 1 ELSE 0 END AS [0918]\n",
    ",CASE WHEN [0919]>0 THEN 1 ELSE 0 END AS [0919]\n",
    ",CASE WHEN [0920]>0 THEN 1 ELSE 0 END AS [0920]\n",
    ",CASE WHEN [0921]>0 THEN 1 ELSE 0 END AS [0921]\n",
    ",CASE WHEN [0923]>0 THEN 1 ELSE 0 END AS [0923]\n",
    ",CASE WHEN [0924]>0 THEN 1 ELSE 0 END AS [0924]\n",
    ",CASE WHEN [0925]>0 THEN 1 ELSE 0 END AS [0925]\n",
    ",CASE WHEN [0929]>0 THEN 1 ELSE 0 END AS [0929]\n",
    ",CASE WHEN [0930]>0 THEN 1 ELSE 0 END AS [0930]\n",
    ",CASE WHEN [0931]>0 THEN 1 ELSE 0 END AS [0931]\n",
    ",CASE WHEN [0937]>0 THEN 1 ELSE 0 END AS [0937]\n",
    ",CASE WHEN [0941]>0 THEN 1 ELSE 0 END AS [0941]\n",
    ",CASE WHEN [10  ]>0 THEN 1 ELSE 0 END AS [10  ]\n",
    ",CASE WHEN [1000]>0 THEN 1 ELSE 0 END AS [1000]\n",
    ",CASE WHEN [1001]>0 THEN 1 ELSE 0 END AS [1001]\n",
    ",CASE WHEN [1002]>0 THEN 1 ELSE 0 END AS [1002]\n",
    ",CASE WHEN [1003]>0 THEN 1 ELSE 0 END AS [1003]\n",
    ",CASE WHEN [1004]>0 THEN 1 ELSE 0 END AS [1004]\n",
    ",CASE WHEN [1005]>0 THEN 1 ELSE 0 END AS [1005]\n",
    ",CASE WHEN [1007]>0 THEN 1 ELSE 0 END AS [1007]\n",
    ",CASE WHEN [1009]>0 THEN 1 ELSE 0 END AS [1009]\n",
    ",CASE WHEN [1010]>0 THEN 1 ELSE 0 END AS [1010]\n",
    ",CASE WHEN [1011]>0 THEN 1 ELSE 0 END AS [1011]\n",
    ",CASE WHEN [1012]>0 THEN 1 ELSE 0 END AS [1012]\n",
    ",CASE WHEN [1013]>0 THEN 1 ELSE 0 END AS [1013]\n",
    ",CASE WHEN [1014]>0 THEN 1 ELSE 0 END AS [1014]\n",
    ",CASE WHEN [1015]>0 THEN 1 ELSE 0 END AS [1015]\n",
    ",CASE WHEN [1020]>0 THEN 1 ELSE 0 END AS [1020]\n",
    ",CASE WHEN [1023]>0 THEN 1 ELSE 0 END AS [1023]\n",
    ",CASE WHEN [1024]>0 THEN 1 ELSE 0 END AS [1024]\n",
    ",CASE WHEN [12  ]>0 THEN 1 ELSE 0 END AS [12  ]\n",
    ",CASE WHEN [1201]>0 THEN 1 ELSE 0 END AS [1201]\n",
    ",CASE WHEN [1202]>0 THEN 1 ELSE 0 END AS [1202]\n",
    ",CASE WHEN [1203]>0 THEN 1 ELSE 0 END AS [1203]\n",
    ",CASE WHEN [1204]>0 THEN 1 ELSE 0 END AS [1204]\n",
    ",CASE WHEN [1205]>0 THEN 1 ELSE 0 END AS [1205]\n",
    ",CASE WHEN [1207]>0 THEN 1 ELSE 0 END AS [1207]\n",
    ",CASE WHEN [1208]>0 THEN 1 ELSE 0 END AS [1208]\n",
    ",CASE WHEN [1209]>0 THEN 1 ELSE 0 END AS [1209]\n",
    ",CASE WHEN [1213]>0 THEN 1 ELSE 0 END AS [1213]\n",
    ",CASE WHEN [1215]>0 THEN 1 ELSE 0 END AS [1215]\n",
    ",CASE WHEN [1219]>0 THEN 1 ELSE 0 END AS [1219]\n",
    ",CASE WHEN [1226]>0 THEN 1 ELSE 0 END AS [1226]\n",
    ",CASE WHEN [1227]>0 THEN 1 ELSE 0 END AS [1227]\n",
    ",CASE WHEN [1228]>0 THEN 1 ELSE 0 END AS [1228]\n",
    ",CASE WHEN [1242]>0 THEN 1 ELSE 0 END AS [1242]\n",
    ",CASE WHEN [1244]>0 THEN 1 ELSE 0 END AS [1244]\n",
    ",CASE WHEN [1245]>0 THEN 1 ELSE 0 END AS [1245]\n",
    ",CASE WHEN [1254]>0 THEN 1 ELSE 0 END AS [1254]\n",
    ",CASE WHEN [14  ]>0 THEN 1 ELSE 0 END AS [14  ]\n",
    ",CASE WHEN [1434]>0 THEN 1 ELSE 0 END AS [1434]\n",
    ",CASE WHEN [1435]>0 THEN 1 ELSE 0 END AS [1435]\n",
    ",CASE WHEN [1436]>0 THEN 1 ELSE 0 END AS [1436]\n",
    ",CASE WHEN [1437]>0 THEN 1 ELSE 0 END AS [1437]\n",
    ",CASE WHEN [1451]>0 THEN 1 ELSE 0 END AS [1451]\n",
    ",CASE WHEN [1452]>0 THEN 1 ELSE 0 END AS [1452]\n",
    ",CASE WHEN [1454]>0 THEN 1 ELSE 0 END AS [1454]\n",
    ",CASE WHEN [1455]>0 THEN 1 ELSE 0 END AS [1455]\n",
    ",CASE WHEN [1456]>0 THEN 1 ELSE 0 END AS [1456]\n",
    ",CASE WHEN [1457]>0 THEN 1 ELSE 0 END AS [1457]\n",
    ",CASE WHEN [1459]>0 THEN 1 ELSE 0 END AS [1459]\n",
    ",CASE WHEN [1469]>0 THEN 1 ELSE 0 END AS [1469]\n",
    ",CASE WHEN [15  ]>0 THEN 1 ELSE 0 END AS [15  ]\n",
    ",CASE WHEN [1501]>0 THEN 1 ELSE 0 END AS [1501]\n",
    ",CASE WHEN [1502]>0 THEN 1 ELSE 0 END AS [1502]\n",
    ",CASE WHEN [1503]>0 THEN 1 ELSE 0 END AS [1503]\n",
    ",CASE WHEN [1504]>0 THEN 1 ELSE 0 END AS [1504]\n",
    ",CASE WHEN [1505]>0 THEN 1 ELSE 0 END AS [1505]\n",
    ",CASE WHEN [1507]>0 THEN 1 ELSE 0 END AS [1507]\n",
    ",CASE WHEN [1508]>0 THEN 1 ELSE 0 END AS [1508]\n",
    ",CASE WHEN [1511]>0 THEN 1 ELSE 0 END AS [1511]\n",
    ",CASE WHEN [1513]>0 THEN 1 ELSE 0 END AS [1513]\n",
    ",CASE WHEN [16]>0 THEN 1 ELSE 0 END AS [16]\n",
    ",CASE WHEN [1600]>0 THEN 1 ELSE 0 END AS [1600]\n",
    ",CASE WHEN [1601]>0 THEN 1 ELSE 0 END AS [1601]\n",
    ",CASE WHEN [1602]>0 THEN 1 ELSE 0 END AS [1602]\n",
    ",CASE WHEN [1603]>0 THEN 1 ELSE 0 END AS [1603]\n",
    ",CASE WHEN [1605]>0 THEN 1 ELSE 0 END AS [1605]\n",
    ",CASE WHEN [1609]>0 THEN 1 ELSE 0 END AS [1609]\n",
    ",CASE WHEN [1611]>0 THEN 1 ELSE 0 END AS [1611]\n",
    ",CASE WHEN [1614]>0 THEN 1 ELSE 0 END AS [1614]\n",
    ",CASE WHEN [1619]>0 THEN 1 ELSE 0 END AS [1619]\n",
    ",CASE WHEN [1620]>0 THEN 1 ELSE 0 END AS [1620]\n",
    ",CASE WHEN [1621]>0 THEN 1 ELSE 0 END AS [1621]\n",
    ",CASE WHEN [1623]>0 THEN 1 ELSE 0 END AS [1623]\n",
    ",CASE WHEN [1625]>0 THEN 1 ELSE 0 END AS [1625]\n",
    ",CASE WHEN [1626]>0 THEN 1 ELSE 0 END AS [1626]\n",
    ",CASE WHEN [1629]>0 THEN 1 ELSE 0 END AS [1629]\n",
    ",CASE WHEN [1632]>0 THEN 1 ELSE 0 END AS [1632]\n",
    ",CASE WHEN [1634]>0 THEN 1 ELSE 0 END AS [1634]\n",
    ",CASE WHEN [1635]>0 THEN 1 ELSE 0 END AS [1635]\n",
    ",CASE WHEN [1636]>0 THEN 1 ELSE 0 END AS [1636]\n",
    ",CASE WHEN [1640]>0 THEN 1 ELSE 0 END AS [1640]\n",
    ",CASE WHEN [1642]>0 THEN 1 ELSE 0 END AS [1642]\n",
    ",CASE WHEN [1643]>0 THEN 1 ELSE 0 END AS [1643]\n",
    ",CASE WHEN [1644]>0 THEN 1 ELSE 0 END AS [1644]\n",
    ",CASE WHEN [1645]>0 THEN 1 ELSE 0 END AS [1645]\n",
    ",CASE WHEN [1646]>0 THEN 1 ELSE 0 END AS [1646]\n",
    ",CASE WHEN [1647]>0 THEN 1 ELSE 0 END AS [1647]\n",
    ",CASE WHEN [1652]>0 THEN 1 ELSE 0 END AS [1652]\n",
    ",CASE WHEN [1654]>0 THEN 1 ELSE 0 END AS [1654]\n",
    ",CASE WHEN [1655]>0 THEN 1 ELSE 0 END AS [1655]\n",
    ",CASE WHEN [1685]>0 THEN 1 ELSE 0 END AS [1685]\n",
    ",CASE WHEN [18  ]>0 THEN 1 ELSE 0 END AS [18  ]\n",
    ",CASE WHEN [1801]>0 THEN 1 ELSE 0 END AS [1801]\n",
    ",CASE WHEN [1802]>0 THEN 1 ELSE 0 END AS [1802]\n",
    ",CASE WHEN [1803]>0 THEN 1 ELSE 0 END AS [1803]\n",
    ",CASE WHEN [1807]>0 THEN 1 ELSE 0 END AS [1807]\n",
    ",CASE WHEN [1822]>0 THEN 1 ELSE 0 END AS [1822]\n",
    ",CASE WHEN [1891]>0 THEN 1 ELSE 0 END AS [1891]\n",
    ",CASE WHEN [2018]>0 THEN 1 ELSE 0 END AS [2018]\n",
    ",CASE WHEN [21]>0 THEN 1 ELSE 0 END AS [21]\n",
    ",CASE WHEN [2103]>0 THEN 1 ELSE 0 END AS [2103]\n",
    ",CASE WHEN [2104]>0 THEN 1 ELSE 0 END AS [2104]\n",
    ",CASE WHEN [2105]>0 THEN 1 ELSE 0 END AS [2105]\n",
    ",CASE WHEN [2106]>0 THEN 1 ELSE 0 END AS [2106]\n",
    ",CASE WHEN [2108]>0 THEN 1 ELSE 0 END AS [2108]\n",
    ",CASE WHEN [2109]>0 THEN 1 ELSE 0 END AS [2109]\n",
    ",CASE WHEN [211 ]>0 THEN 1 ELSE 0 END AS [211 ]\n",
    ",CASE WHEN [2114]>0 THEN 1 ELSE 0 END AS [2114]\n",
    ",CASE WHEN [2115]>0 THEN 1 ELSE 0 END AS [2115]\n",
    ",CASE WHEN [2122]>0 THEN 1 ELSE 0 END AS [2122]\n",
    ",CASE WHEN [2131]>0 THEN 1 ELSE 0 END AS [2131]\n",
    ",CASE WHEN [2144]>0 THEN 1 ELSE 0 END AS [2144]\n",
    ",CASE WHEN [2145]>0 THEN 1 ELSE 0 END AS [2145]\n",
    ",CASE WHEN [2163]>0 THEN 1 ELSE 0 END AS [2163]\n",
    ",CASE WHEN [2177]>0 THEN 1 ELSE 0 END AS [2177]\n",
    ",CASE WHEN [22  ]>0 THEN 1 ELSE 0 END AS [22  ]\n",
    ",CASE WHEN [2211]>0 THEN 1 ELSE 0 END AS [2211]\n",
    ",CASE WHEN [2241]>0 THEN 1 ELSE 0 END AS [2241]\n",
    ",CASE WHEN [2324]>0 THEN 1 ELSE 0 END AS [2324]\n",
    ",CASE WHEN [24]>0 THEN 1 ELSE 0 END AS [24]\n",
    ",CASE WHEN [2401]>0 THEN 1 ELSE 0 END AS [2401]\n",
    ",CASE WHEN [2402]>0 THEN 1 ELSE 0 END AS [2402]\n",
    ",CASE WHEN [2403]>0 THEN 1 ELSE 0 END AS [2403]\n",
    ",CASE WHEN [2404]>0 THEN 1 ELSE 0 END AS [2404]\n",
    ",CASE WHEN [2405]>0 THEN 1 ELSE 0 END AS [2405]\n",
    ",CASE WHEN [2406]>0 THEN 1 ELSE 0 END AS [2406]\n",
    ",CASE WHEN [2407]>0 THEN 1 ELSE 0 END AS [2407]\n",
    ",CASE WHEN [241 ]>0 THEN 1 ELSE 0 END AS [241 ]\n",
    ",CASE WHEN [3175]>0 THEN 1 ELSE 0 END AS [3175]\n",
    ",CASE WHEN [4454]>0 THEN 1 ELSE 0 END AS [4454]\n",
    ",CASE WHEN [6006]>0 THEN 1 ELSE 0 END AS [6006]\n",
    ",CASE WHEN [91  ]>0 THEN 1 ELSE 0 END AS [91  ]\n",
    ",CASE WHEN [9101]>0 THEN 1 ELSE 0 END AS [9101]\n",
    ",CASE WHEN [93  ]>0 THEN 1 ELSE 0 END AS [93  ]\n",
    ",CASE WHEN [9300]>0 THEN 1 ELSE 0 END AS [9300]\n",
    ",CASE WHEN [9301]>0 THEN 1 ELSE 0 END AS [9301]\n",
    ",CASE WHEN [9303]>0 THEN 1 ELSE 0 END AS [9303]\n",
    ",CASE WHEN [9304]>0 THEN 1 ELSE 0 END AS [9304]\n",
    ",CASE WHEN [9305]>0 THEN 1 ELSE 0 END AS [9305]\n",
    ",CASE WHEN [9306]>0 THEN 1 ELSE 0 END AS [9306]\n",
    ",CASE WHEN [9307]>0 THEN 1 ELSE 0 END AS [9307]\n",
    ",CASE WHEN [9308]>0 THEN 1 ELSE 0 END AS [9308]\n",
    ",CASE WHEN [9309]>0 THEN 1 ELSE 0 END AS [9309]\n",
    ",CASE WHEN [9310]>0 THEN 1 ELSE 0 END AS [9310]\n",
    ",CASE WHEN [95]>0 THEN 1 ELSE 0 END AS [95]\n",
    ",CASE WHEN [9501]>0 THEN 1 ELSE 0 END AS [9501]\n",
    ",CASE WHEN [9999]>0 THEN 1 ELSE 0 END AS [9999]\n",
    "--,dense_rank() over(partition by ''order by  birth_year )-1 as BIRTH_LABEL\n",
    "from(select *\n",
    "\tFROM\t(SELECT  a.ITG_USER_ID,LEFT(ENR_CATE_CODE,4) AS MCATE,CASE WHEN GENDER_CODE = 'M' THEN 0\n",
    "                    ELSE  1 END AS GENDER_CODE\n",
    "                  , case when 2021 - convert(int,birth_year)<20 then 0\n",
    "                         when 2021 - convert(int,birth_year)<30 then 1\n",
    "                         when 2021 - convert(int,birth_year)<40 then 2\n",
    "                         when 2021 - convert(int,birth_year)<50 then 3\n",
    "                         when 2021 - convert(int,birth_year)<60 then 4\n",
    "                         else 5 end as age\n",
    "                  ,count(*) as cnt\n",
    "                   ,SUM(CASE WHEN COUNT(*) > 0 THEN 1 \n",
    "\t\t\t\t\t  WHEN COUNT(*) IS NULL THEN 0\n",
    "                     \n",
    "\t\t\t\tELSE 0 END) OVER (PARTITION BY a.ITG_USER_ID) AS FILTER\n",
    "                ,sum(drm_pay_amt) as AMT\n",
    "\t\t\tFROM ml_buy_trn AS A WITH(NOLOCK) \n",
    "            inner join MIDW.DBO.ITG_USER_DEMO_BSC as b WITH(NOLOCK) \n",
    "            on a.itg_user_id =b.itg_user_id \n",
    "           where CERTIFY_YN <> 'N' and  ENR_CATE_CODE not in ('00','','_','00000000') AND BUY_DATE BETWEEN '20200101' AND  '20201215'\n",
    "           and itg_buy_no not in (select itg_buy_no from ml_buy_trn with(nolock) where BUY_STATE_CODE = 4 and DRM_PAY_AMT >1000000 AND BUY_DATE BETWEEN '20190101' AND  '20201031')\n",
    "\t\t\tGROUP BY a.ITG_USER_ID,LEFT(ENR_CATE_CODE,4) ,CASE WHEN GENDER_CODE = 'M' THEN 0\n",
    "                    ELSE  1 END,case when 2021 - convert(int,birth_year)<20 then 0\n",
    "                                     when 2021 - convert(int,birth_year)<30 then 1\n",
    "                                     when 2021 - convert(int,birth_year)<40 then 2\n",
    "                                     when 2021 - convert(int,birth_year)<50 then 3\n",
    "                                     when 2021 - convert(int,birth_year)<60 then 4\n",
    "                                     else 5 end\n",
    "\t\t\t) AS H\n",
    "\t\t\tPIVOT  (MAX(cnt)\n",
    "\t\t\t\t\tFOR MCATE IN ( [02],\t[0201],\t[0203],\t[0204],\t[0208],\t[0211],\t[0215],\t[0220],\t[0224],\t[0232],\t[0233],\t[0234],\t[0235],\t[0236],\t[0237],\t[0238],\t[0239],\t[0240],\t[0241],\t[0283],\t[03  ],\t[0304],\t[0305],\t[0308],\t[0318],\t[0357],\t[0359],\t[0360],\t[0362],\t[0363],\t[0364],\t[04  ],\t[0401],\t[0402],\t[0404],\t[0405],\t[0408],\t[0414],\t[0418],\t[0420],\t[0421],\t[0422],\t[0423],\t[05  ],\t[0502],\t[0503],\t[0507],\t[0508],\t[0510],\t[0511],\t[0513],\t[0514],\t[0515],\t[0521],\t[0526],\t[0527],\t[0550],\t[06  ],\t[0601],\t[0602],\t[0603],\t[0605],\t[0606],\t[0607],\t[0608],\t[0609],\t[061 ],\t[0610],\t[0611],\t[0621],\t[0690],\t[07  ],\t[0701],\t[0702],\t[0703],\t[0704],\t[0705],\t[0707],\t[0708],\t[0709],\t[0710],\t[0711],\t[0712],\t[0713],\t[0715],\t[0717],\t[0718],\t[0719],\t[0720],\t[08  ],\t[0801],\t[0802],\t[0803],\t[0804],\t[0805],\t[0806],\t[0807],\t[0808],\t[0809],\t[0810],\t[0812],\t[0813],\t[0814],\t[0860],\t[09  ],\t[0901],\t[0902],\t[0903],\t[0904],\t[0905],\t[0906],\t[0907],\t[0908],\t[0909],\t[0911],\t[0912],\t[0913],\t[0915],\t[0918],\t[0919],\t[0920],\t[0921],\t[0923],\t[0924],\t[0925],\t[0929],\t[0930],\t[0931],\t[0937],\t[0941],\t[10  ],\t[1000],\t[1001],\t[1002],\t[1003],\t[1004],\t[1005],\t[1007],\t[1009],\t[1010],\t[1011],\t[1012],\t[1013],\t[1014],\t[1015],\t[1020],\t[1023],\t[1024],\t[12  ],\t[1201],\t[1202],\t[1203],\t[1204],\t[1205],\t[1207],\t[1208],\t[1209],\t[1213],\t[1215],\t[1219],\t[1226],\t[1227],\t[1228],\t[1242],\t[1244],\t[1245],\t[1254],\t[14  ],\t[1434],\t[1435],\t[1436],\t[1437],\t[1451],\t[1452],\t[1454],\t[1455],\t[1456],\t[1457],\t[1459],\t[1469],\t[15  ],\t[1501],\t[1502],\t[1503],\t[1504],\t[1505],\t[1507],\t[1508],\t[1511],\t[1513],\t[16],\t[1600],\t[1601],\t[1602],\t[1603],\t[1605],\t[1609],\t[1611],\t[1614],\t[1619],\t[1620],\t[1621],\t[1623],\t[1625],\t[1626],\t[1629],\t[1632],\t[1634],\t[1635],\t[1636],\t[1640],\t[1642],\t[1643],\t[1644],\t[1645],\t[1646],\t[1647],\t[1652],\t[1654],\t[1655],\t[1685],\t[18  ],\t[1801],\t[1802],\t[1803],\t[1807],\t[1822],\t[1891],\t[2018],\t[21],\t[2103],\t[2104],\t[2105],\t[2106],\t[2108],\t[2109],\t[211 ],\t[2114],\t[2115],\t[2122],\t[2131],\t[2144],\t[2145],\t[2163],\t[2177],\t[22  ],\t[2211],\t[2241],\t[2324],\t[24],\t[2401],\t[2402],\t[2403],\t[2404],\t[2405],\t[2406],\t[2407],\t[241 ],\t[3175],\t[4454],\t[6006],\t[91  ],\t[9101],\t[93  ],\t[9300],\t[9301],\t[9303],\t[9304],\t[9305],\t[9306],\t[9307],\t[9308],\t[9309],\t[9310],\t[95],\t[9501],\t[9999]\n",
    ")   \n",
    "\t\t\t\t\t) AS PVT\n",
    "\t\t\t\t) as HH\n",
    "WHERE FILTER >=2\n",
    "OPTION (MAXDOP 3)'''\n",
    "data=pd.read_sql(query,conn)\n",
    "print(\"Runtime: %0.2f Minutes\"%((time.time() - start_vect)/60))\n",
    "\n",
    "conn.close()"
   ]
  },
  {
   "cell_type": "code",
   "execution_count": 19,
   "metadata": {
    "scrolled": true
   },
   "outputs": [
    {
     "name": "stdout",
     "output_type": "stream",
     "text": [
      "nCar: 3856203 nVar: 282\n"
     ]
    }
   ],
   "source": [
    "nCar = data.shape[0] # 데이터 개수\n",
    "nVar = data.shape[1] # 변수 개수\n",
    "print('nCar: %d' % nCar, 'nVar: %d' % nVar )"
   ]
  },
  {
   "cell_type": "code",
   "execution_count": 20,
   "metadata": {
    "scrolled": true
   },
   "outputs": [
    {
     "data": {
      "text/html": [
       "<div>\n",
       "<style scoped>\n",
       "    .dataframe tbody tr th:only-of-type {\n",
       "        vertical-align: middle;\n",
       "    }\n",
       "\n",
       "    .dataframe tbody tr th {\n",
       "        vertical-align: top;\n",
       "    }\n",
       "\n",
       "    .dataframe thead th {\n",
       "        text-align: right;\n",
       "    }\n",
       "</style>\n",
       "<table border=\"1\" class=\"dataframe\">\n",
       "  <thead>\n",
       "    <tr style=\"text-align: right;\">\n",
       "      <th></th>\n",
       "      <th>ITG_USER_ID</th>\n",
       "      <th>GENDER_CODE</th>\n",
       "      <th>age</th>\n",
       "      <th>FILTER</th>\n",
       "      <th>AMT</th>\n",
       "      <th>02</th>\n",
       "      <th>0201</th>\n",
       "      <th>0203</th>\n",
       "      <th>0204</th>\n",
       "      <th>0208</th>\n",
       "      <th>...</th>\n",
       "      <th>9304</th>\n",
       "      <th>9305</th>\n",
       "      <th>9306</th>\n",
       "      <th>9307</th>\n",
       "      <th>9308</th>\n",
       "      <th>9309</th>\n",
       "      <th>9310</th>\n",
       "      <th>95</th>\n",
       "      <th>9501</th>\n",
       "      <th>9999</th>\n",
       "    </tr>\n",
       "  </thead>\n",
       "  <tbody>\n",
       "    <tr>\n",
       "      <th>0</th>\n",
       "      <td>5</td>\n",
       "      <td>1</td>\n",
       "      <td>3</td>\n",
       "      <td>30</td>\n",
       "      <td>1073367.0</td>\n",
       "      <td>0</td>\n",
       "      <td>0</td>\n",
       "      <td>0</td>\n",
       "      <td>0</td>\n",
       "      <td>0</td>\n",
       "      <td>...</td>\n",
       "      <td>0</td>\n",
       "      <td>0</td>\n",
       "      <td>0</td>\n",
       "      <td>0</td>\n",
       "      <td>0</td>\n",
       "      <td>0</td>\n",
       "      <td>0</td>\n",
       "      <td>0</td>\n",
       "      <td>0</td>\n",
       "      <td>0</td>\n",
       "    </tr>\n",
       "    <tr>\n",
       "      <th>1</th>\n",
       "      <td>5</td>\n",
       "      <td>1</td>\n",
       "      <td>3</td>\n",
       "      <td>30</td>\n",
       "      <td>1073367.0</td>\n",
       "      <td>0</td>\n",
       "      <td>0</td>\n",
       "      <td>0</td>\n",
       "      <td>0</td>\n",
       "      <td>0</td>\n",
       "      <td>...</td>\n",
       "      <td>0</td>\n",
       "      <td>0</td>\n",
       "      <td>0</td>\n",
       "      <td>0</td>\n",
       "      <td>0</td>\n",
       "      <td>0</td>\n",
       "      <td>0</td>\n",
       "      <td>0</td>\n",
       "      <td>0</td>\n",
       "      <td>0</td>\n",
       "    </tr>\n",
       "    <tr>\n",
       "      <th>2</th>\n",
       "      <td>5</td>\n",
       "      <td>1</td>\n",
       "      <td>3</td>\n",
       "      <td>30</td>\n",
       "      <td>1073367.0</td>\n",
       "      <td>0</td>\n",
       "      <td>0</td>\n",
       "      <td>0</td>\n",
       "      <td>0</td>\n",
       "      <td>0</td>\n",
       "      <td>...</td>\n",
       "      <td>0</td>\n",
       "      <td>0</td>\n",
       "      <td>0</td>\n",
       "      <td>0</td>\n",
       "      <td>0</td>\n",
       "      <td>0</td>\n",
       "      <td>0</td>\n",
       "      <td>0</td>\n",
       "      <td>0</td>\n",
       "      <td>0</td>\n",
       "    </tr>\n",
       "    <tr>\n",
       "      <th>3</th>\n",
       "      <td>5</td>\n",
       "      <td>1</td>\n",
       "      <td>3</td>\n",
       "      <td>30</td>\n",
       "      <td>1073367.0</td>\n",
       "      <td>0</td>\n",
       "      <td>0</td>\n",
       "      <td>0</td>\n",
       "      <td>0</td>\n",
       "      <td>0</td>\n",
       "      <td>...</td>\n",
       "      <td>0</td>\n",
       "      <td>0</td>\n",
       "      <td>0</td>\n",
       "      <td>0</td>\n",
       "      <td>0</td>\n",
       "      <td>0</td>\n",
       "      <td>0</td>\n",
       "      <td>0</td>\n",
       "      <td>0</td>\n",
       "      <td>0</td>\n",
       "    </tr>\n",
       "    <tr>\n",
       "      <th>4</th>\n",
       "      <td>5</td>\n",
       "      <td>1</td>\n",
       "      <td>3</td>\n",
       "      <td>30</td>\n",
       "      <td>1073367.0</td>\n",
       "      <td>0</td>\n",
       "      <td>0</td>\n",
       "      <td>0</td>\n",
       "      <td>0</td>\n",
       "      <td>0</td>\n",
       "      <td>...</td>\n",
       "      <td>0</td>\n",
       "      <td>0</td>\n",
       "      <td>0</td>\n",
       "      <td>0</td>\n",
       "      <td>0</td>\n",
       "      <td>0</td>\n",
       "      <td>0</td>\n",
       "      <td>0</td>\n",
       "      <td>0</td>\n",
       "      <td>0</td>\n",
       "    </tr>\n",
       "    <tr>\n",
       "      <th>...</th>\n",
       "      <td>...</td>\n",
       "      <td>...</td>\n",
       "      <td>...</td>\n",
       "      <td>...</td>\n",
       "      <td>...</td>\n",
       "      <td>...</td>\n",
       "      <td>...</td>\n",
       "      <td>...</td>\n",
       "      <td>...</td>\n",
       "      <td>...</td>\n",
       "      <td>...</td>\n",
       "      <td>...</td>\n",
       "      <td>...</td>\n",
       "      <td>...</td>\n",
       "      <td>...</td>\n",
       "      <td>...</td>\n",
       "      <td>...</td>\n",
       "      <td>...</td>\n",
       "      <td>...</td>\n",
       "      <td>...</td>\n",
       "      <td>...</td>\n",
       "    </tr>\n",
       "    <tr>\n",
       "      <th>3856198</th>\n",
       "      <td>3127538</td>\n",
       "      <td>0</td>\n",
       "      <td>2</td>\n",
       "      <td>16</td>\n",
       "      <td>272178.0</td>\n",
       "      <td>0</td>\n",
       "      <td>0</td>\n",
       "      <td>0</td>\n",
       "      <td>0</td>\n",
       "      <td>0</td>\n",
       "      <td>...</td>\n",
       "      <td>0</td>\n",
       "      <td>0</td>\n",
       "      <td>0</td>\n",
       "      <td>0</td>\n",
       "      <td>0</td>\n",
       "      <td>0</td>\n",
       "      <td>0</td>\n",
       "      <td>0</td>\n",
       "      <td>0</td>\n",
       "      <td>0</td>\n",
       "    </tr>\n",
       "    <tr>\n",
       "      <th>3856199</th>\n",
       "      <td>3127538</td>\n",
       "      <td>0</td>\n",
       "      <td>2</td>\n",
       "      <td>16</td>\n",
       "      <td>272178.0</td>\n",
       "      <td>0</td>\n",
       "      <td>0</td>\n",
       "      <td>0</td>\n",
       "      <td>0</td>\n",
       "      <td>0</td>\n",
       "      <td>...</td>\n",
       "      <td>0</td>\n",
       "      <td>0</td>\n",
       "      <td>0</td>\n",
       "      <td>0</td>\n",
       "      <td>0</td>\n",
       "      <td>0</td>\n",
       "      <td>0</td>\n",
       "      <td>0</td>\n",
       "      <td>0</td>\n",
       "      <td>0</td>\n",
       "    </tr>\n",
       "    <tr>\n",
       "      <th>3856200</th>\n",
       "      <td>3127538</td>\n",
       "      <td>0</td>\n",
       "      <td>2</td>\n",
       "      <td>16</td>\n",
       "      <td>272178.0</td>\n",
       "      <td>0</td>\n",
       "      <td>0</td>\n",
       "      <td>0</td>\n",
       "      <td>0</td>\n",
       "      <td>0</td>\n",
       "      <td>...</td>\n",
       "      <td>0</td>\n",
       "      <td>0</td>\n",
       "      <td>0</td>\n",
       "      <td>0</td>\n",
       "      <td>0</td>\n",
       "      <td>0</td>\n",
       "      <td>0</td>\n",
       "      <td>0</td>\n",
       "      <td>0</td>\n",
       "      <td>0</td>\n",
       "    </tr>\n",
       "    <tr>\n",
       "      <th>3856201</th>\n",
       "      <td>3127538</td>\n",
       "      <td>0</td>\n",
       "      <td>2</td>\n",
       "      <td>16</td>\n",
       "      <td>272178.0</td>\n",
       "      <td>0</td>\n",
       "      <td>0</td>\n",
       "      <td>0</td>\n",
       "      <td>0</td>\n",
       "      <td>0</td>\n",
       "      <td>...</td>\n",
       "      <td>0</td>\n",
       "      <td>0</td>\n",
       "      <td>0</td>\n",
       "      <td>0</td>\n",
       "      <td>0</td>\n",
       "      <td>0</td>\n",
       "      <td>0</td>\n",
       "      <td>0</td>\n",
       "      <td>0</td>\n",
       "      <td>0</td>\n",
       "    </tr>\n",
       "    <tr>\n",
       "      <th>3856202</th>\n",
       "      <td>3127538</td>\n",
       "      <td>0</td>\n",
       "      <td>2</td>\n",
       "      <td>16</td>\n",
       "      <td>272178.0</td>\n",
       "      <td>0</td>\n",
       "      <td>0</td>\n",
       "      <td>0</td>\n",
       "      <td>0</td>\n",
       "      <td>0</td>\n",
       "      <td>...</td>\n",
       "      <td>0</td>\n",
       "      <td>0</td>\n",
       "      <td>0</td>\n",
       "      <td>0</td>\n",
       "      <td>0</td>\n",
       "      <td>0</td>\n",
       "      <td>0</td>\n",
       "      <td>0</td>\n",
       "      <td>0</td>\n",
       "      <td>0</td>\n",
       "    </tr>\n",
       "  </tbody>\n",
       "</table>\n",
       "<p>3856203 rows × 282 columns</p>\n",
       "</div>"
      ],
      "text/plain": [
       "         ITG_USER_ID  GENDER_CODE  age  FILTER        AMT  02  0201  0203  \\\n",
       "0                  5            1    3      30  1073367.0   0     0     0   \n",
       "1                  5            1    3      30  1073367.0   0     0     0   \n",
       "2                  5            1    3      30  1073367.0   0     0     0   \n",
       "3                  5            1    3      30  1073367.0   0     0     0   \n",
       "4                  5            1    3      30  1073367.0   0     0     0   \n",
       "...              ...          ...  ...     ...        ...  ..   ...   ...   \n",
       "3856198      3127538            0    2      16   272178.0   0     0     0   \n",
       "3856199      3127538            0    2      16   272178.0   0     0     0   \n",
       "3856200      3127538            0    2      16   272178.0   0     0     0   \n",
       "3856201      3127538            0    2      16   272178.0   0     0     0   \n",
       "3856202      3127538            0    2      16   272178.0   0     0     0   \n",
       "\n",
       "         0204  0208  ...  9304  9305  9306  9307  9308  9309  9310  95  9501  \\\n",
       "0           0     0  ...     0     0     0     0     0     0     0   0     0   \n",
       "1           0     0  ...     0     0     0     0     0     0     0   0     0   \n",
       "2           0     0  ...     0     0     0     0     0     0     0   0     0   \n",
       "3           0     0  ...     0     0     0     0     0     0     0   0     0   \n",
       "4           0     0  ...     0     0     0     0     0     0     0   0     0   \n",
       "...       ...   ...  ...   ...   ...   ...   ...   ...   ...   ...  ..   ...   \n",
       "3856198     0     0  ...     0     0     0     0     0     0     0   0     0   \n",
       "3856199     0     0  ...     0     0     0     0     0     0     0   0     0   \n",
       "3856200     0     0  ...     0     0     0     0     0     0     0   0     0   \n",
       "3856201     0     0  ...     0     0     0     0     0     0     0   0     0   \n",
       "3856202     0     0  ...     0     0     0     0     0     0     0   0     0   \n",
       "\n",
       "         9999  \n",
       "0           0  \n",
       "1           0  \n",
       "2           0  \n",
       "3           0  \n",
       "4           0  \n",
       "...       ...  \n",
       "3856198     0  \n",
       "3856199     0  \n",
       "3856200     0  \n",
       "3856201     0  \n",
       "3856202     0  \n",
       "\n",
       "[3856203 rows x 282 columns]"
      ]
     },
     "execution_count": 20,
     "metadata": {},
     "output_type": "execute_result"
    }
   ],
   "source": [
    "data"
   ]
  },
  {
   "cell_type": "code",
   "execution_count": 21,
   "metadata": {
    "collapsed": true
   },
   "outputs": [],
   "source": [
    "#RANK 함수\n",
    "def transpct(data,group_feature,feature):\n",
    "    return data.groupby(group_feature)[feature].rank(ascending=False,method=\"max\",pct=True)\n",
    "def transrank(data,group_feature,feature):\n",
    "    return data.groupby(group_feature)[feature].rank(ascending=False, method=\"max\")"
   ]
  },
  {
   "cell_type": "code",
   "execution_count": 22,
   "metadata": {},
   "outputs": [
    {
     "ename": "NameError",
     "evalue": "name 'group_brand' is not defined",
     "output_type": "error",
     "traceback": [
      "\u001b[0;31m---------------------------------------------------------------------------\u001b[0m",
      "\u001b[0;31mNameError\u001b[0m                                 Traceback (most recent call last)",
      "\u001b[0;32m<ipython-input-22-856d584c31bb>\u001b[0m in \u001b[0;36m<module>\u001b[0;34m()\u001b[0m\n\u001b[1;32m      1\u001b[0m \u001b[0;31m#RANKpct 적용\u001b[0m\u001b[0;34m\u001b[0m\u001b[0;34m\u001b[0m\u001b[0;34m\u001b[0m\u001b[0m\n\u001b[0;32m----> 2\u001b[0;31m \u001b[0mgroup_brand\u001b[0m\u001b[0;34m[\u001b[0m\u001b[0;34m'BRAND_CNTpct'\u001b[0m\u001b[0;34m]\u001b[0m\u001b[0;34m=\u001b[0m\u001b[0mtranspct\u001b[0m\u001b[0;34m(\u001b[0m\u001b[0mgroup_brand\u001b[0m\u001b[0;34m,\u001b[0m\u001b[0;34m'BRAND_NAME'\u001b[0m\u001b[0;34m,\u001b[0m\u001b[0;34m'BRAND_CNT'\u001b[0m\u001b[0;34m)\u001b[0m\u001b[0;34m\u001b[0m\u001b[0;34m\u001b[0m\u001b[0m\n\u001b[0m\u001b[1;32m      3\u001b[0m \u001b[0mgroup_brand\u001b[0m\u001b[0;34m[\u001b[0m\u001b[0;34m'BRAND_PAYpct'\u001b[0m\u001b[0;34m]\u001b[0m\u001b[0;34m=\u001b[0m\u001b[0mtranspct\u001b[0m\u001b[0;34m(\u001b[0m\u001b[0mgroup_brand\u001b[0m\u001b[0;34m,\u001b[0m\u001b[0;34m'BRAND_NAME'\u001b[0m\u001b[0;34m,\u001b[0m\u001b[0;34m'PAY'\u001b[0m\u001b[0;34m)\u001b[0m\u001b[0;34m\u001b[0m\u001b[0;34m\u001b[0m\u001b[0m\n\u001b[1;32m      4\u001b[0m \u001b[0mgroup_maker\u001b[0m\u001b[0;34m[\u001b[0m\u001b[0;34m'MAKER_CNTpct'\u001b[0m\u001b[0;34m]\u001b[0m\u001b[0;34m=\u001b[0m\u001b[0mtranspct\u001b[0m\u001b[0;34m(\u001b[0m\u001b[0mgroup_maker\u001b[0m\u001b[0;34m,\u001b[0m\u001b[0;34m'MAKER_NAME'\u001b[0m\u001b[0;34m,\u001b[0m\u001b[0;34m'MAKER_CNT'\u001b[0m\u001b[0;34m)\u001b[0m\u001b[0;34m\u001b[0m\u001b[0;34m\u001b[0m\u001b[0m\n\u001b[1;32m      5\u001b[0m \u001b[0mgroup_maker\u001b[0m\u001b[0;34m[\u001b[0m\u001b[0;34m'MAKER_PAYpct'\u001b[0m\u001b[0;34m]\u001b[0m\u001b[0;34m=\u001b[0m\u001b[0mtranspct\u001b[0m\u001b[0;34m(\u001b[0m\u001b[0mgroup_maker\u001b[0m\u001b[0;34m,\u001b[0m\u001b[0;34m'MAKER_NAME'\u001b[0m\u001b[0;34m,\u001b[0m\u001b[0;34m'PAY'\u001b[0m\u001b[0;34m)\u001b[0m\u001b[0;34m\u001b[0m\u001b[0;34m\u001b[0m\u001b[0m\n",
      "\u001b[0;31mNameError\u001b[0m: name 'group_brand' is not defined"
     ]
    }
   ],
   "source": [
    "#RANKpct 적용\n",
    "group_brand['BRAND_CNTpct']=transpct(group_brand,'BRAND_NAME','BRAND_CNT')\n",
    "group_brand['BRAND_PAYpct']=transpct(group_brand,'BRAND_NAME','PAY')\n",
    "group_maker['MAKER_CNTpct']=transpct(group_maker,'MAKER_NAME','MAKER_CNT')\n",
    "group_maker['MAKER_PAYpct']=transpct(group_maker,'MAKER_NAME','PAY')"
   ]
  },
  {
   "cell_type": "code",
   "execution_count": 9,
   "metadata": {},
   "outputs": [
    {
     "data": {
      "image/png": "[encoded data removed]",
      "text/plain": [
       "<Figure size 936x792 with 2 Axes>"
      ]
     },
     "metadata": {},
     "output_type": "display_data"
    }
   ],
   "source": [
    "# #변수간 상관관계 있는지 여부 확인\n",
    "# corrmat=data.corr()\n",
    "# plt.subplots(figsize=(13,11))\n",
    "# sns.heatmap(corrmat,vmax=0.8, square=True, annot=True, annot_kws={'size':8})\n",
    "# plt.show()"
   ]
  },
  {
   "cell_type": "code",
   "execution_count": null,
   "metadata": {
    "collapsed": true,
    "scrolled": false
   },
   "outputs": [],
   "source": [
    "# random_index=np.random.choice(data.reset_index(drop=False,inplace=False)['index'],size=1500000)"
   ]
  },
  {
   "cell_type": "code",
   "execution_count": null,
   "metadata": {
    "collapsed": true,
    "scrolled": true
   },
   "outputs": [],
   "source": [
    "# random_index"
   ]
  },
  {
   "cell_type": "code",
   "execution_count": null,
   "metadata": {
    "collapsed": true,
    "scrolled": true
   },
   "outputs": [],
   "source": [
    "# random_index=pd.DataFrame([random_index]).T\n",
    "# random_index= random_index.rename(columns={0:\"index\"})"
   ]
  },
  {
   "cell_type": "code",
   "execution_count": null,
   "metadata": {
    "collapsed": true
   },
   "outputs": [],
   "source": [
    "random_index"
   ]
  },
  {
   "cell_type": "markdown",
   "metadata": {},
   "source": [
    "## 의미가 없다고 판단되는 변수 제거"
   ]
  },
  {
   "cell_type": "code",
   "execution_count": null,
   "metadata": {
    "collapsed": true
   },
   "outputs": [],
   "source": [
    "# data = data.reset_index()"
   ]
  },
  {
   "cell_type": "code",
   "execution_count": 16,
   "metadata": {
    "collapsed": true
   },
   "outputs": [],
   "source": [
    "# data[['BIRTH_YEAR']] = data[['BIRTH_YEAR']].apply(pd.to_numeric)\n"
   ]
  },
  {
   "cell_type": "code",
   "execution_count": 9,
   "metadata": {
    "collapsed": true
   },
   "outputs": [],
   "source": [
    "data = data.drop(['ITG_USER_ID'], axis = 1) # id 제거"
   ]
  },
  {
   "cell_type": "code",
   "execution_count": 16,
   "metadata": {
    "collapsed": true
   },
   "outputs": [],
   "source": [
    "# data = data.drop(['FILTER'], axis = 1) # id 제거"
   ]
  },
  {
   "cell_type": "code",
   "execution_count": null,
   "metadata": {
    "collapsed": true
   },
   "outputs": [],
   "source": [
    "# data = data.drop(['MCATE'], axis = 1) # id 제거"
   ]
  },
  {
   "cell_type": "code",
   "execution_count": null,
   "metadata": {
    "collapsed": true
   },
   "outputs": [],
   "source": [
    "# data = data.drop(['QNTY'], axis = 1) # id 제거"
   ]
  },
  {
   "cell_type": "code",
   "execution_count": null,
   "metadata": {
    "collapsed": true
   },
   "outputs": [],
   "source": [
    "# data = data.drop(['index'], axis = 1) # id 제거"
   ]
  },
  {
   "cell_type": "code",
   "execution_count": null,
   "metadata": {
    "collapsed": true,
    "scrolled": false
   },
   "outputs": [],
   "source": [
    "data.info()"
   ]
  },
  {
   "cell_type": "code",
   "execution_count": 6,
   "metadata": {
    "scrolled": true
   },
   "outputs": [
    {
     "data": {
      "text/html": [
       "<div>\n",
       "<style scoped>\n",
       "    .dataframe tbody tr th:only-of-type {\n",
       "        vertical-align: middle;\n",
       "    }\n",
       "\n",
       "    .dataframe tbody tr th {\n",
       "        vertical-align: top;\n",
       "    }\n",
       "\n",
       "    .dataframe thead th {\n",
       "        text-align: right;\n",
       "    }\n",
       "</style>\n",
       "<table border=\"1\" class=\"dataframe\">\n",
       "  <thead>\n",
       "    <tr style=\"text-align: right;\">\n",
       "      <th></th>\n",
       "      <th>ITG_USER_ID</th>\n",
       "      <th>GENDER_CODE</th>\n",
       "      <th>age</th>\n",
       "      <th>FILTER</th>\n",
       "      <th>02</th>\n",
       "      <th>0201</th>\n",
       "      <th>0203</th>\n",
       "      <th>0204</th>\n",
       "      <th>0208</th>\n",
       "      <th>0211</th>\n",
       "      <th>...</th>\n",
       "      <th>9304</th>\n",
       "      <th>9305</th>\n",
       "      <th>9306</th>\n",
       "      <th>9307</th>\n",
       "      <th>9308</th>\n",
       "      <th>9309</th>\n",
       "      <th>9310</th>\n",
       "      <th>95</th>\n",
       "      <th>9501</th>\n",
       "      <th>9999</th>\n",
       "    </tr>\n",
       "  </thead>\n",
       "  <tbody>\n",
       "    <tr>\n",
       "      <th>0</th>\n",
       "      <td>61</td>\n",
       "      <td>0</td>\n",
       "      <td>2</td>\n",
       "      <td>31</td>\n",
       "      <td>0</td>\n",
       "      <td>0</td>\n",
       "      <td>0</td>\n",
       "      <td>0</td>\n",
       "      <td>0</td>\n",
       "      <td>0</td>\n",
       "      <td>...</td>\n",
       "      <td>0</td>\n",
       "      <td>0</td>\n",
       "      <td>0</td>\n",
       "      <td>0</td>\n",
       "      <td>0</td>\n",
       "      <td>0</td>\n",
       "      <td>0</td>\n",
       "      <td>0</td>\n",
       "      <td>0</td>\n",
       "      <td>0</td>\n",
       "    </tr>\n",
       "    <tr>\n",
       "      <th>1</th>\n",
       "      <td>117</td>\n",
       "      <td>0</td>\n",
       "      <td>1</td>\n",
       "      <td>45</td>\n",
       "      <td>0</td>\n",
       "      <td>0</td>\n",
       "      <td>0</td>\n",
       "      <td>0</td>\n",
       "      <td>1</td>\n",
       "      <td>0</td>\n",
       "      <td>...</td>\n",
       "      <td>0</td>\n",
       "      <td>0</td>\n",
       "      <td>0</td>\n",
       "      <td>0</td>\n",
       "      <td>0</td>\n",
       "      <td>0</td>\n",
       "      <td>0</td>\n",
       "      <td>0</td>\n",
       "      <td>0</td>\n",
       "      <td>0</td>\n",
       "    </tr>\n",
       "    <tr>\n",
       "      <th>2</th>\n",
       "      <td>158</td>\n",
       "      <td>0</td>\n",
       "      <td>2</td>\n",
       "      <td>7</td>\n",
       "      <td>0</td>\n",
       "      <td>0</td>\n",
       "      <td>0</td>\n",
       "      <td>0</td>\n",
       "      <td>0</td>\n",
       "      <td>0</td>\n",
       "      <td>...</td>\n",
       "      <td>0</td>\n",
       "      <td>0</td>\n",
       "      <td>0</td>\n",
       "      <td>0</td>\n",
       "      <td>0</td>\n",
       "      <td>0</td>\n",
       "      <td>0</td>\n",
       "      <td>0</td>\n",
       "      <td>0</td>\n",
       "      <td>0</td>\n",
       "    </tr>\n",
       "    <tr>\n",
       "      <th>3</th>\n",
       "      <td>161</td>\n",
       "      <td>0</td>\n",
       "      <td>3</td>\n",
       "      <td>5</td>\n",
       "      <td>0</td>\n",
       "      <td>0</td>\n",
       "      <td>0</td>\n",
       "      <td>0</td>\n",
       "      <td>0</td>\n",
       "      <td>0</td>\n",
       "      <td>...</td>\n",
       "      <td>0</td>\n",
       "      <td>0</td>\n",
       "      <td>0</td>\n",
       "      <td>0</td>\n",
       "      <td>0</td>\n",
       "      <td>0</td>\n",
       "      <td>0</td>\n",
       "      <td>0</td>\n",
       "      <td>0</td>\n",
       "      <td>0</td>\n",
       "    </tr>\n",
       "    <tr>\n",
       "      <th>4</th>\n",
       "      <td>46</td>\n",
       "      <td>1</td>\n",
       "      <td>3</td>\n",
       "      <td>44</td>\n",
       "      <td>0</td>\n",
       "      <td>0</td>\n",
       "      <td>0</td>\n",
       "      <td>0</td>\n",
       "      <td>0</td>\n",
       "      <td>0</td>\n",
       "      <td>...</td>\n",
       "      <td>0</td>\n",
       "      <td>0</td>\n",
       "      <td>0</td>\n",
       "      <td>0</td>\n",
       "      <td>0</td>\n",
       "      <td>0</td>\n",
       "      <td>0</td>\n",
       "      <td>0</td>\n",
       "      <td>0</td>\n",
       "      <td>0</td>\n",
       "    </tr>\n",
       "    <tr>\n",
       "      <th>...</th>\n",
       "      <td>...</td>\n",
       "      <td>...</td>\n",
       "      <td>...</td>\n",
       "      <td>...</td>\n",
       "      <td>...</td>\n",
       "      <td>...</td>\n",
       "      <td>...</td>\n",
       "      <td>...</td>\n",
       "      <td>...</td>\n",
       "      <td>...</td>\n",
       "      <td>...</td>\n",
       "      <td>...</td>\n",
       "      <td>...</td>\n",
       "      <td>...</td>\n",
       "      <td>...</td>\n",
       "      <td>...</td>\n",
       "      <td>...</td>\n",
       "      <td>...</td>\n",
       "      <td>...</td>\n",
       "      <td>...</td>\n",
       "      <td>...</td>\n",
       "    </tr>\n",
       "    <tr>\n",
       "      <th>196309</th>\n",
       "      <td>3118546</td>\n",
       "      <td>1</td>\n",
       "      <td>3</td>\n",
       "      <td>7</td>\n",
       "      <td>0</td>\n",
       "      <td>0</td>\n",
       "      <td>0</td>\n",
       "      <td>0</td>\n",
       "      <td>0</td>\n",
       "      <td>0</td>\n",
       "      <td>...</td>\n",
       "      <td>0</td>\n",
       "      <td>0</td>\n",
       "      <td>0</td>\n",
       "      <td>0</td>\n",
       "      <td>0</td>\n",
       "      <td>0</td>\n",
       "      <td>0</td>\n",
       "      <td>0</td>\n",
       "      <td>0</td>\n",
       "      <td>0</td>\n",
       "    </tr>\n",
       "    <tr>\n",
       "      <th>196310</th>\n",
       "      <td>3118553</td>\n",
       "      <td>0</td>\n",
       "      <td>1</td>\n",
       "      <td>2</td>\n",
       "      <td>0</td>\n",
       "      <td>0</td>\n",
       "      <td>0</td>\n",
       "      <td>0</td>\n",
       "      <td>0</td>\n",
       "      <td>0</td>\n",
       "      <td>...</td>\n",
       "      <td>0</td>\n",
       "      <td>0</td>\n",
       "      <td>0</td>\n",
       "      <td>0</td>\n",
       "      <td>0</td>\n",
       "      <td>0</td>\n",
       "      <td>0</td>\n",
       "      <td>0</td>\n",
       "      <td>0</td>\n",
       "      <td>0</td>\n",
       "    </tr>\n",
       "    <tr>\n",
       "      <th>196311</th>\n",
       "      <td>3118565</td>\n",
       "      <td>0</td>\n",
       "      <td>3</td>\n",
       "      <td>2</td>\n",
       "      <td>0</td>\n",
       "      <td>0</td>\n",
       "      <td>0</td>\n",
       "      <td>0</td>\n",
       "      <td>0</td>\n",
       "      <td>0</td>\n",
       "      <td>...</td>\n",
       "      <td>0</td>\n",
       "      <td>0</td>\n",
       "      <td>0</td>\n",
       "      <td>0</td>\n",
       "      <td>0</td>\n",
       "      <td>0</td>\n",
       "      <td>0</td>\n",
       "      <td>0</td>\n",
       "      <td>0</td>\n",
       "      <td>0</td>\n",
       "    </tr>\n",
       "    <tr>\n",
       "      <th>196312</th>\n",
       "      <td>3118580</td>\n",
       "      <td>0</td>\n",
       "      <td>1</td>\n",
       "      <td>3</td>\n",
       "      <td>0</td>\n",
       "      <td>0</td>\n",
       "      <td>0</td>\n",
       "      <td>0</td>\n",
       "      <td>0</td>\n",
       "      <td>0</td>\n",
       "      <td>...</td>\n",
       "      <td>0</td>\n",
       "      <td>0</td>\n",
       "      <td>0</td>\n",
       "      <td>0</td>\n",
       "      <td>0</td>\n",
       "      <td>0</td>\n",
       "      <td>0</td>\n",
       "      <td>0</td>\n",
       "      <td>0</td>\n",
       "      <td>0</td>\n",
       "    </tr>\n",
       "    <tr>\n",
       "      <th>196313</th>\n",
       "      <td>3118601</td>\n",
       "      <td>1</td>\n",
       "      <td>2</td>\n",
       "      <td>6</td>\n",
       "      <td>0</td>\n",
       "      <td>0</td>\n",
       "      <td>0</td>\n",
       "      <td>0</td>\n",
       "      <td>0</td>\n",
       "      <td>0</td>\n",
       "      <td>...</td>\n",
       "      <td>0</td>\n",
       "      <td>0</td>\n",
       "      <td>0</td>\n",
       "      <td>0</td>\n",
       "      <td>0</td>\n",
       "      <td>0</td>\n",
       "      <td>0</td>\n",
       "      <td>0</td>\n",
       "      <td>0</td>\n",
       "      <td>0</td>\n",
       "    </tr>\n",
       "  </tbody>\n",
       "</table>\n",
       "<p>196314 rows × 281 columns</p>\n",
       "</div>"
      ],
      "text/plain": [
       "        ITG_USER_ID  GENDER_CODE  age  FILTER  02  0201  0203  0204  0208  \\\n",
       "0                61            0    2      31   0     0     0     0     0   \n",
       "1               117            0    1      45   0     0     0     0     1   \n",
       "2               158            0    2       7   0     0     0     0     0   \n",
       "3               161            0    3       5   0     0     0     0     0   \n",
       "4                46            1    3      44   0     0     0     0     0   \n",
       "...             ...          ...  ...     ...  ..   ...   ...   ...   ...   \n",
       "196309      3118546            1    3       7   0     0     0     0     0   \n",
       "196310      3118553            0    1       2   0     0     0     0     0   \n",
       "196311      3118565            0    3       2   0     0     0     0     0   \n",
       "196312      3118580            0    1       3   0     0     0     0     0   \n",
       "196313      3118601            1    2       6   0     0     0     0     0   \n",
       "\n",
       "        0211  ...  9304  9305  9306  9307  9308  9309  9310  95  9501  9999  \n",
       "0          0  ...     0     0     0     0     0     0     0   0     0     0  \n",
       "1          0  ...     0     0     0     0     0     0     0   0     0     0  \n",
       "2          0  ...     0     0     0     0     0     0     0   0     0     0  \n",
       "3          0  ...     0     0     0     0     0     0     0   0     0     0  \n",
       "4          0  ...     0     0     0     0     0     0     0   0     0     0  \n",
       "...      ...  ...   ...   ...   ...   ...   ...   ...   ...  ..   ...   ...  \n",
       "196309     0  ...     0     0     0     0     0     0     0   0     0     0  \n",
       "196310     0  ...     0     0     0     0     0     0     0   0     0     0  \n",
       "196311     0  ...     0     0     0     0     0     0     0   0     0     0  \n",
       "196312     0  ...     0     0     0     0     0     0     0   0     0     0  \n",
       "196313     0  ...     0     0     0     0     0     0     0   0     0     0  \n",
       "\n",
       "[196314 rows x 281 columns]"
      ]
     },
     "execution_count": 6,
     "metadata": {},
     "output_type": "execute_result"
    }
   ],
   "source": [
    "data"
   ]
  },
  {
   "cell_type": "code",
   "execution_count": 7,
   "metadata": {},
   "outputs": [
    {
     "data": {
      "text/plain": [
       "0"
      ]
     },
     "execution_count": 7,
     "metadata": {},
     "output_type": "execute_result"
    }
   ],
   "source": [
    "min(data['age'])"
   ]
  },
  {
   "cell_type": "code",
   "execution_count": 8,
   "metadata": {
    "scrolled": true
   },
   "outputs": [
    {
     "data": {
      "text/plain": [
       "5"
      ]
     },
     "execution_count": 8,
     "metadata": {},
     "output_type": "execute_result"
    }
   ],
   "source": [
    "max(data['age'])"
   ]
  },
  {
   "cell_type": "code",
   "execution_count": 9,
   "metadata": {
    "scrolled": false
   },
   "outputs": [
    {
     "data": {
      "text/plain": [
       "5"
      ]
     },
     "execution_count": 9,
     "metadata": {},
     "output_type": "execute_result"
    }
   ],
   "source": [
    "max(data['age'])"
   ]
  },
  {
   "cell_type": "code",
   "execution_count": 10,
   "metadata": {
    "scrolled": true
   },
   "outputs": [
    {
     "data": {
      "text/plain": [
       "0"
      ]
     },
     "execution_count": 10,
     "metadata": {},
     "output_type": "execute_result"
    }
   ],
   "source": [
    "min(data['age'])"
   ]
  },
  {
   "cell_type": "code",
   "execution_count": null,
   "metadata": {
    "collapsed": true
   },
   "outputs": [],
   "source": [
    "# random_extract= pd.merge(random_index, data, on='index', how='inner')"
   ]
  },
  {
   "cell_type": "markdown",
   "metadata": {},
   "source": [
    "## 설명변수 및 타겟변수 숫자로 변환"
   ]
  },
  {
   "cell_type": "code",
   "execution_count": null,
   "metadata": {
    "collapsed": true,
    "scrolled": true
   },
   "outputs": [],
   "source": [
    "# random_extract"
   ]
  },
  {
   "cell_type": "code",
   "execution_count": null,
   "metadata": {
    "collapsed": true,
    "scrolled": true
   },
   "outputs": [],
   "source": [
    "# data=data.apply(pd.to_numeric, errors = 'coerce') "
   ]
  },
  {
   "cell_type": "code",
   "execution_count": null,
   "metadata": {
    "collapsed": true,
    "scrolled": true
   },
   "outputs": [],
   "source": [
    "# random_extract.info()"
   ]
  },
  {
   "cell_type": "code",
   "execution_count": null,
   "metadata": {
    "collapsed": true,
    "scrolled": false
   },
   "outputs": [],
   "source": [
    "# data.isnull().values.any()"
   ]
  },
  {
   "cell_type": "code",
   "execution_count": null,
   "metadata": {
    "collapsed": true
   },
   "outputs": [],
   "source": [
    "# data=random_extract.fillna(0)"
   ]
  },
  {
   "cell_type": "code",
   "execution_count": null,
   "metadata": {
    "collapsed": true
   },
   "outputs": [],
   "source": [
    "# data = data.drop(['index'], axis = 1) # id 제거"
   ]
  },
  {
   "cell_type": "markdown",
   "metadata": {},
   "source": [
    "## 설명변수와 타겟변수를 분리, 학습데이터와 평가데이터 분리"
   ]
  },
  {
   "cell_type": "code",
   "execution_count": 23,
   "metadata": {
    "scrolled": false
   },
   "outputs": [
    {
     "name": "stdout",
     "output_type": "stream",
     "text": [
      "(3084962, 281) (771241, 281) (3084962,) (771241,)\n"
     ]
    }
   ],
   "source": [
    "feature_columns = list(data.columns.difference(['age'])) # target을 제외한 모든 행\n",
    "X = data[feature_columns] # 설명변수\n",
    "y = data['age'] # 타겟변수\n",
    "train_x, test_x, train_y, test_y = train_test_split(X, y, test_size = 0.2, random_state = 42) # 학습데이터와 평가데이터의 비율을 8:2 로 분할| \n",
    "print(train_x.shape, test_x.shape, train_y.shape, test_y.shape) # 데이터 개수 확인"
   ]
  },
  {
   "cell_type": "markdown",
   "metadata": {},
   "source": [
    "## 1. XGBoost"
   ]
  },
  {
   "cell_type": "code",
   "execution_count": 13,
   "metadata": {
    "scrolled": false
   },
   "outputs": [
    {
     "name": "stdout",
     "output_type": "stream",
     "text": [
      "[14:36:51] WARNING: /workspace/src/learner.cc:480: \n",
      "Parameters: { n_estimators } might not be used.\n",
      "\n",
      "  This may not be accurate due to some parameters are only used in language bindings but\n",
      "  passed down to XGBoost core.  Or some parameters are not used but slip through this\n",
      "  verification. Please open an issue if you find above cases.\n",
      "\n",
      "\n",
      "Accuracy: 41.73 %\n",
      "Time: 115.56 seconds\n"
     ]
    }
   ],
   "source": [
    "# !pip install xgboost\n",
    "import xgboost as xgb\n",
    "import time\n",
    "start = time.time() # 시작 시간 지정\n",
    "xgb_dtrain = xgb.DMatrix(data = train_x, label = train_y) # 학습 데이터를 XGBoost 모델에 맞게 변환\n",
    "xgb_dtest = xgb.DMatrix(data = test_x) # 평가 데이터를 XGBoost 모델에 맞게 변환\n",
    "xgb_param = {'max_depth': 100, # 트리 깊이\n",
    "         'learning_rate': 0.01, # Step Size\n",
    "         'n_estimators': 100, # Number of trees, 트리 생성 개수\n",
    "         'objective': 'multi:softmax', # 목적 함수\n",
    "        'num_class': len(set(train_y)) + 1} # 파라미터 추가, Label must be in [0, num_class) -> num_class보다 1 커야한다.\n",
    "xgb_model = xgb.train(params = xgb_param, dtrain = xgb_dtrain) # 학습 진행\n",
    "xgb_model_predict = xgb_model.predict(xgb_dtest) # 평가 데이터 예측\n",
    "print(\"Accuracy: %.2f\" % (accuracy_score(test_y, xgb_model_predict) * 100), \"%\") # 정확도 % 계산\n",
    "print(\"Time: %.2f\" % (time.time() - start), \"seconds\") # 코드 실행 시간 계산"
   ]
  },
  {
   "cell_type": "code",
   "execution_count": 14,
   "metadata": {
    "scrolled": true
   },
   "outputs": [
    {
     "data": {
      "text/plain": [
       "array([4., 2., 2., ..., 3., 2., 3.], dtype=float32)"
      ]
     },
     "execution_count": 14,
     "metadata": {},
     "output_type": "execute_result"
    }
   ],
   "source": [
    "xgb_model_predict"
   ]
  },
  {
   "cell_type": "markdown",
   "metadata": {},
   "source": [
    "## 2. LightGBM"
   ]
  },
  {
   "cell_type": "code",
   "execution_count": 24,
   "metadata": {},
   "outputs": [
    {
     "name": "stderr",
     "output_type": "stream",
     "text": [
      "/home/ml/anaconda3/lib/python3.6/site-packages/lightgbm/engine.py:148: UserWarning: Found `n_estimators` in params. Will use it instead of argument\n",
      "  warnings.warn(\"Found `{}` in params. Will use it instead of argument\".format(alias))\n"
     ]
    },
    {
     "name": "stdout",
     "output_type": "stream",
     "text": [
      "Accuracy: 45.94 %\n",
      "Time: 810.68 seconds\n"
     ]
    }
   ],
   "source": [
    "# !pip install lightgbm\n",
    "import lightgbm as lgb\n",
    "start = time.time() # 시작 시간 지정\n",
    "lgb_dtrain = lgb.Dataset(data = train_x, label = train_y) # 학습 데이터를 LightGBM 모델에 맞게 변환\n",
    "lgb_param = {'max_depth': 100, # 트리 깊이\n",
    "            'learning_rate': 0.01, # Step Size\n",
    "            'n_estimators': 1000, # Number of trees, 트리 생성 개수\n",
    "             'objective' : 'binary',\n",
    "#              'boosting' : 'rf', #gdbt,rf,dart,goss\n",
    "            'objective': 'multiclass', # 목적 함수\n",
    "            'num_class': len(set(train_y)) + 1} # 파라미터 추가, Label must be in [0, num_class) -> num_class보다 1 커야한다.\n",
    "lgb_model = lgb.train(params = lgb_param, train_set = lgb_dtrain) # 학습 진행\n",
    "lgb_model_predict = np.argmax(lgb_model.predict(test_x), axis = 1) # 평가 데이터 예측, Softmax의 결과값 중 가장 큰 값의 Label로 예측\n",
    "print(\"Accuracy: %.2f\" % (accuracy_score(test_y, lgb_model_predict) * 100), \"%\") # 정확도 % 계산\n",
    "print(\"Time: %.2f\" % (time.time() - start), \"seconds\") # 코드 실행 시간 계산"
   ]
  },
  {
   "cell_type": "code",
   "execution_count": 15,
   "metadata": {
    "scrolled": false
   },
   "outputs": [
    {
     "data": {
      "text/plain": [
       "array([[6.13292146e-01, 3.86707854e-01, 9.87287286e-16],\n",
       "       [6.94385288e-01, 3.05614712e-01, 9.33911515e-16],\n",
       "       [6.33740765e-01, 3.66259235e-01, 9.76716356e-16],\n",
       "       ...,\n",
       "       [5.01846293e-01, 4.98153707e-01, 1.01364385e-15],\n",
       "       [2.82890356e-01, 7.17109644e-01, 9.13103903e-16],\n",
       "       [6.08415788e-01, 3.91584212e-01, 9.89535025e-16]])"
      ]
     },
     "execution_count": 15,
     "metadata": {},
     "output_type": "execute_result"
    }
   ],
   "source": [
    "lgb_model.predict(test_x)"
   ]
  },
  {
   "cell_type": "code",
   "execution_count": 16,
   "metadata": {
    "scrolled": false
   },
   "outputs": [
    {
     "name": "stdout",
     "output_type": "stream",
     "text": [
      "0:\tlearn: 0.4218566\ttotal: 481ms\tremaining: 47.6s\n",
      "1:\tlearn: 0.4320253\ttotal: 881ms\tremaining: 43.2s\n",
      "2:\tlearn: 0.4437412\ttotal: 1.28s\tremaining: 41.4s\n",
      "3:\tlearn: 0.4445308\ttotal: 1.68s\tremaining: 40.2s\n",
      "4:\tlearn: 0.4426014\ttotal: 2.06s\tremaining: 39.2s\n",
      "5:\tlearn: 0.4426078\ttotal: 2.48s\tremaining: 38.9s\n",
      "6:\tlearn: 0.4426651\ttotal: 2.89s\tremaining: 38.4s\n",
      "7:\tlearn: 0.4433273\ttotal: 3.32s\tremaining: 38.1s\n",
      "8:\tlearn: 0.4448364\ttotal: 3.75s\tremaining: 38s\n",
      "9:\tlearn: 0.4444416\ttotal: 4.17s\tremaining: 37.5s\n",
      "10:\tlearn: 0.4441742\ttotal: 4.58s\tremaining: 37s\n",
      "11:\tlearn: 0.4447663\ttotal: 4.98s\tremaining: 36.5s\n",
      "12:\tlearn: 0.4445626\ttotal: 5.41s\tremaining: 36.2s\n",
      "13:\tlearn: 0.4459507\ttotal: 5.81s\tremaining: 35.7s\n",
      "14:\tlearn: 0.4470650\ttotal: 6.23s\tremaining: 35.3s\n",
      "15:\tlearn: 0.4482620\ttotal: 6.65s\tremaining: 34.9s\n",
      "16:\tlearn: 0.4487205\ttotal: 7.07s\tremaining: 34.5s\n",
      "17:\tlearn: 0.4487332\ttotal: 7.49s\tremaining: 34.1s\n",
      "18:\tlearn: 0.4495864\ttotal: 7.89s\tremaining: 33.6s\n",
      "19:\tlearn: 0.4493317\ttotal: 8.3s\tremaining: 33.2s\n",
      "20:\tlearn: 0.4499303\ttotal: 8.72s\tremaining: 32.8s\n",
      "21:\tlearn: 0.4501722\ttotal: 9.14s\tremaining: 32.4s\n",
      "22:\tlearn: 0.4502741\ttotal: 9.56s\tremaining: 32s\n",
      "23:\tlearn: 0.4507326\ttotal: 9.96s\tremaining: 31.5s\n",
      "24:\tlearn: 0.4510955\ttotal: 10.4s\tremaining: 31.2s\n",
      "25:\tlearn: 0.4509427\ttotal: 10.8s\tremaining: 30.8s\n",
      "26:\tlearn: 0.4509300\ttotal: 11.2s\tremaining: 30.4s\n",
      "27:\tlearn: 0.4509172\ttotal: 11.6s\tremaining: 29.9s\n",
      "28:\tlearn: 0.4514202\ttotal: 12.1s\tremaining: 29.5s\n",
      "29:\tlearn: 0.4516431\ttotal: 12.5s\tremaining: 29.1s\n",
      "30:\tlearn: 0.4518978\ttotal: 12.9s\tremaining: 28.7s\n",
      "31:\tlearn: 0.4519806\ttotal: 13.3s\tremaining: 28.3s\n",
      "32:\tlearn: 0.4517386\ttotal: 13.8s\tremaining: 27.9s\n",
      "33:\tlearn: 0.4526237\ttotal: 14.2s\tremaining: 27.6s\n",
      "34:\tlearn: 0.4524709\ttotal: 14.6s\tremaining: 27.2s\n",
      "35:\tlearn: 0.4524199\ttotal: 15s\tremaining: 26.7s\n",
      "36:\tlearn: 0.4526873\ttotal: 15.4s\tremaining: 26.3s\n",
      "37:\tlearn: 0.4531076\ttotal: 15.8s\tremaining: 25.9s\n",
      "38:\tlearn: 0.4529866\ttotal: 16.3s\tremaining: 25.4s\n",
      "39:\tlearn: 0.4535469\ttotal: 16.7s\tremaining: 25s\n",
      "40:\tlearn: 0.4535851\ttotal: 17.1s\tremaining: 24.6s\n",
      "41:\tlearn: 0.4537634\ttotal: 17.5s\tremaining: 24.2s\n",
      "42:\tlearn: 0.4539099\ttotal: 17.9s\tremaining: 23.8s\n",
      "43:\tlearn: 0.4535915\ttotal: 18.4s\tremaining: 23.4s\n",
      "44:\tlearn: 0.4537953\ttotal: 18.8s\tremaining: 23s\n",
      "45:\tlearn: 0.4541200\ttotal: 19.2s\tremaining: 22.5s\n",
      "46:\tlearn: 0.4541582\ttotal: 19.6s\tremaining: 22.1s\n",
      "47:\tlearn: 0.4541837\ttotal: 20s\tremaining: 21.7s\n",
      "48:\tlearn: 0.4543110\ttotal: 20.5s\tremaining: 21.3s\n",
      "49:\tlearn: 0.4543556\ttotal: 20.9s\tremaining: 20.9s\n",
      "50:\tlearn: 0.4551642\ttotal: 21.3s\tremaining: 20.5s\n",
      "51:\tlearn: 0.4553553\ttotal: 21.7s\tremaining: 20.1s\n",
      "52:\tlearn: 0.4553489\ttotal: 22.2s\tremaining: 19.6s\n",
      "53:\tlearn: 0.4560302\ttotal: 22.6s\tremaining: 19.2s\n",
      "54:\tlearn: 0.4566924\ttotal: 23s\tremaining: 18.8s\n",
      "55:\tlearn: 0.4566033\ttotal: 23.4s\tremaining: 18.4s\n",
      "56:\tlearn: 0.4573610\ttotal: 23.8s\tremaining: 18s\n",
      "57:\tlearn: 0.4573865\ttotal: 24.3s\tremaining: 17.6s\n",
      "58:\tlearn: 0.4579404\ttotal: 24.7s\tremaining: 17.2s\n",
      "59:\tlearn: 0.4579723\ttotal: 25.1s\tremaining: 16.7s\n",
      "60:\tlearn: 0.4581887\ttotal: 25.5s\tremaining: 16.3s\n",
      "61:\tlearn: 0.4583861\ttotal: 25.9s\tremaining: 15.9s\n",
      "62:\tlearn: 0.4585708\ttotal: 26.4s\tremaining: 15.5s\n",
      "63:\tlearn: 0.4589146\ttotal: 26.8s\tremaining: 15.1s\n",
      "64:\tlearn: 0.4591948\ttotal: 27.2s\tremaining: 14.6s\n",
      "65:\tlearn: 0.4592139\ttotal: 27.6s\tremaining: 14.2s\n",
      "66:\tlearn: 0.4593285\ttotal: 28s\tremaining: 13.8s\n",
      "67:\tlearn: 0.4594813\ttotal: 28.4s\tremaining: 13.4s\n",
      "68:\tlearn: 0.4593540\ttotal: 28.8s\tremaining: 13s\n",
      "69:\tlearn: 0.4593158\ttotal: 29.3s\tremaining: 12.5s\n",
      "70:\tlearn: 0.4593094\ttotal: 29.7s\tremaining: 12.1s\n",
      "71:\tlearn: 0.4594686\ttotal: 30.1s\tremaining: 11.7s\n",
      "72:\tlearn: 0.4598061\ttotal: 30.5s\tremaining: 11.3s\n",
      "73:\tlearn: 0.4598252\ttotal: 30.9s\tremaining: 10.9s\n",
      "74:\tlearn: 0.4598634\ttotal: 31.4s\tremaining: 10.5s\n",
      "75:\tlearn: 0.4600544\ttotal: 31.8s\tremaining: 10s\n",
      "76:\tlearn: 0.4600480\ttotal: 32.2s\tremaining: 9.62s\n",
      "77:\tlearn: 0.4601563\ttotal: 32.6s\tremaining: 9.2s\n",
      "78:\tlearn: 0.4602454\ttotal: 33s\tremaining: 8.78s\n",
      "79:\tlearn: 0.4603154\ttotal: 33.5s\tremaining: 8.37s\n",
      "80:\tlearn: 0.4605319\ttotal: 33.9s\tremaining: 7.95s\n",
      "81:\tlearn: 0.4608503\ttotal: 34.3s\tremaining: 7.53s\n",
      "82:\tlearn: 0.4609331\ttotal: 34.7s\tremaining: 7.12s\n",
      "83:\tlearn: 0.4612451\ttotal: 35.2s\tremaining: 6.7s\n",
      "84:\tlearn: 0.4614934\ttotal: 35.6s\tremaining: 6.28s\n",
      "85:\tlearn: 0.4618372\ttotal: 36s\tremaining: 5.86s\n",
      "86:\tlearn: 0.4621556\ttotal: 36.4s\tremaining: 5.44s\n",
      "87:\tlearn: 0.4623339\ttotal: 36.8s\tremaining: 5.02s\n",
      "88:\tlearn: 0.4624803\ttotal: 37.2s\tremaining: 4.6s\n",
      "89:\tlearn: 0.4625950\ttotal: 37.6s\tremaining: 4.18s\n",
      "90:\tlearn: 0.4628369\ttotal: 38.1s\tremaining: 3.77s\n",
      "91:\tlearn: 0.4630279\ttotal: 38.5s\tremaining: 3.35s\n",
      "92:\tlearn: 0.4628942\ttotal: 38.9s\tremaining: 2.93s\n",
      "93:\tlearn: 0.4630534\ttotal: 39.3s\tremaining: 2.51s\n",
      "94:\tlearn: 0.4629897\ttotal: 39.7s\tremaining: 2.09s\n",
      "95:\tlearn: 0.4628879\ttotal: 40.2s\tremaining: 1.67s\n",
      "96:\tlearn: 0.4630534\ttotal: 40.6s\tremaining: 1.25s\n",
      "97:\tlearn: 0.4630343\ttotal: 41s\tremaining: 837ms\n",
      "98:\tlearn: 0.4632508\ttotal: 41.4s\tremaining: 419ms\n",
      "99:\tlearn: 0.4634163\ttotal: 41.9s\tremaining: 0us\n",
      "Accuracy: 24.83 %\n",
      "Time: 42.15 seconds\n"
     ]
    }
   ],
   "source": [
    "# !pip install catboost\n",
    "import catboost as cb\n",
    "start = time.time() # 시작 시간 지정\n",
    "cb_dtrain = cb.Pool(data = train_x, label = train_y) # 학습 데이터를 Catboost 모델에 맞게 변환\n",
    "cb_param = {'max_depth': 10, # 트리 깊이\n",
    "            'learning_rate': 0.01, # Step Size\n",
    "            'n_estimators': 100, # Number of trees, 트리 생성 개수\n",
    "            'eval_metric': 'Accuracy', # 평가 척도\n",
    "            'loss_function': 'MultiClass'} # 손실 함수, 목적 함수\n",
    "cb_model = cb.train(pool = cb_dtrain, params = cb_param) # 학습 진행\n",
    "cb_model_predict = np.argmax(cb_model.predict(test_x), axis = 1) + 1 # 평가 데이터 예측, Softmax의 결과값 중 가장 큰 값의 Label로 예측, 인덱스의 순서를 맞추기 위해 +1\n",
    "print(\"Accuracy: %.2f\" % (accuracy_score(test_y, cb_model_predict) * 100), \"%\") # 정확도 % 계산\n",
    "print(\"Time: %.2f\" % (time.time() - start), \"seconds\") # 코드 실행 시간 계산"
   ]
  },
  {
   "cell_type": "code",
   "execution_count": 18,
   "metadata": {},
   "outputs": [
    {
     "name": "stderr",
     "output_type": "stream",
     "text": [
      "/home/ml/anaconda3/lib/python3.6/site-packages/sklearn/ensemble/weight_boosting.py:29: DeprecationWarning: numpy.core.umath_tests is an internal NumPy module and should not be imported. It will be removed in a future NumPy release.\n",
      "  from numpy.core.umath_tests import inner1d\n"
     ]
    }
   ],
   "source": [
    "from sklearn.ensemble import RandomForestClassifier\n",
    "from sklearn.metrics import accuracy_score\n",
    "from sklearn.model_selection import train_test_split"
   ]
  },
  {
   "cell_type": "markdown",
   "metadata": {},
   "source": [
    "## RandomForest"
   ]
  },
  {
   "cell_type": "markdown",
   "metadata": {},
   "source": [
    "## 그렇다면, 트리의 깊이를 최대로 늘려보자!"
   ]
  },
  {
   "cell_type": "code",
   "execution_count": 19,
   "metadata": {},
   "outputs": [
    {
     "name": "stdout",
     "output_type": "stream",
     "text": [
      "Accuracy: 46.70 %\n",
      "Time: 171.37 seconds\n"
     ]
    }
   ],
   "source": [
    "start = time.time() # 시작 시간 지정\n",
    "random_forest_model4 = RandomForestClassifier(n_estimators = 300, # 300번 추정\n",
    "                                             max_depth = 100, # 트리 최대 깊이 100\n",
    "                                             random_state = 42) # 시드값 고정\n",
    "model4 = random_forest_model4.fit(train_x, train_y) # 학습 진행\n",
    "predict4 = model4.predict(test_x) # 평가 데이터 예측\n",
    "print(\"Accuracy: %.2f\" % (accuracy_score(test_y, predict4) * 100), \"%\") # 정확도 % 계산\n",
    "print(\"Time: %.2f\" % (time.time() - start), \"seconds\") # 코드 실행 시간 계산"
   ]
  },
  {
   "cell_type": "code",
   "execution_count": 25,
   "metadata": {},
   "outputs": [
    {
     "data": {
      "text/plain": [
       "array([0, 0, 0, ..., 0, 1, 0])"
      ]
     },
     "execution_count": 25,
     "metadata": {},
     "output_type": "execute_result"
    }
   ],
   "source": [
    "predict4"
   ]
  },
  {
   "cell_type": "markdown",
   "metadata": {},
   "source": [
    "# 예측데이터셋 불러오기"
   ]
  },
  {
   "cell_type": "code",
   "execution_count": 36,
   "metadata": {
    "collapsed": true
   },
   "outputs": [],
   "source": [
    "server = '192.168.212.242' \n",
    "database = 'MARTDB' \n",
    "username = 'dbadmin' \n",
    "password = '#mdbdpsnfl0816' \n",
    "conn = pyodbc.connect('DRIVER={ODBC Driver 13 for SQL Server};SERVER='+server+';DATABASE='+database+';UID='+username+';PWD='+ password, autocommit = True)\n",
    "cur = conn.cursor()"
   ]
  },
  {
   "cell_type": "code",
   "execution_count": 37,
   "metadata": {},
   "outputs": [
    {
     "name": "stdout",
     "output_type": "stream",
     "text": [
      "Runtime: 4.82 Minutes\n"
     ]
    }
   ],
   "source": [
    "start_vect=time.time()\n",
    "\n",
    "##데이터 불러오기\n",
    "query='''SET TRANSACTION ISOLATION LEVEL READ UNCOMMITTED     \n",
    "         SELECT ITG_USER_ID,GENDER_CODE\n",
    "         ,[FILTER],CASE WHEN [02]>0 THEN 1 ELSE 0 END AS [02]\n",
    ",CASE WHEN [0201]>0 THEN 1 ELSE 0 END AS [0201]\n",
    ",CASE WHEN [0203]>0 THEN 1 ELSE 0 END AS [0203]\n",
    ",CASE WHEN [0204]>0 THEN 1 ELSE 0 END AS [0204]\n",
    ",CASE WHEN [0208]>0 THEN 1 ELSE 0 END AS [0208]\n",
    ",CASE WHEN [0211]>0 THEN 1 ELSE 0 END AS [0211]\n",
    ",CASE WHEN [0215]>0 THEN 1 ELSE 0 END AS [0215]\n",
    ",CASE WHEN [0220]>0 THEN 1 ELSE 0 END AS [0220]\n",
    ",CASE WHEN [0224]>0 THEN 1 ELSE 0 END AS [0224]\n",
    ",CASE WHEN [0232]>0 THEN 1 ELSE 0 END AS [0232]\n",
    ",CASE WHEN [0233]>0 THEN 1 ELSE 0 END AS [0233]\n",
    ",CASE WHEN [0234]>0 THEN 1 ELSE 0 END AS [0234]\n",
    ",CASE WHEN [0235]>0 THEN 1 ELSE 0 END AS [0235]\n",
    ",CASE WHEN [0236]>0 THEN 1 ELSE 0 END AS [0236]\n",
    ",CASE WHEN [0237]>0 THEN 1 ELSE 0 END AS [0237]\n",
    ",CASE WHEN [0238]>0 THEN 1 ELSE 0 END AS [0238]\n",
    ",CASE WHEN [0239]>0 THEN 1 ELSE 0 END AS [0239]\n",
    ",CASE WHEN [0240]>0 THEN 1 ELSE 0 END AS [0240]\n",
    ",CASE WHEN [0241]>0 THEN 1 ELSE 0 END AS [0241]\n",
    ",CASE WHEN [0283]>0 THEN 1 ELSE 0 END AS [0283]\n",
    ",CASE WHEN [03  ]>0 THEN 1 ELSE 0 END AS [03  ]\n",
    ",CASE WHEN [0304]>0 THEN 1 ELSE 0 END AS [0304]\n",
    ",CASE WHEN [0305]>0 THEN 1 ELSE 0 END AS [0305]\n",
    ",CASE WHEN [0308]>0 THEN 1 ELSE 0 END AS [0308]\n",
    ",CASE WHEN [0318]>0 THEN 1 ELSE 0 END AS [0318]\n",
    ",CASE WHEN [0357]>0 THEN 1 ELSE 0 END AS [0357]\n",
    ",CASE WHEN [0359]>0 THEN 1 ELSE 0 END AS [0359]\n",
    ",CASE WHEN [0360]>0 THEN 1 ELSE 0 END AS [0360]\n",
    ",CASE WHEN [0362]>0 THEN 1 ELSE 0 END AS [0362]\n",
    ",CASE WHEN [0363]>0 THEN 1 ELSE 0 END AS [0363]\n",
    ",CASE WHEN [0364]>0 THEN 1 ELSE 0 END AS [0364]\n",
    ",CASE WHEN [04  ]>0 THEN 1 ELSE 0 END AS [04  ]\n",
    ",CASE WHEN [0401]>0 THEN 1 ELSE 0 END AS [0401]\n",
    ",CASE WHEN [0402]>0 THEN 1 ELSE 0 END AS [0402]\n",
    ",CASE WHEN [0404]>0 THEN 1 ELSE 0 END AS [0404]\n",
    ",CASE WHEN [0405]>0 THEN 1 ELSE 0 END AS [0405]\n",
    ",CASE WHEN [0408]>0 THEN 1 ELSE 0 END AS [0408]\n",
    ",CASE WHEN [0414]>0 THEN 1 ELSE 0 END AS [0414]\n",
    ",CASE WHEN [0418]>0 THEN 1 ELSE 0 END AS [0418]\n",
    ",CASE WHEN [0420]>0 THEN 1 ELSE 0 END AS [0420]\n",
    ",CASE WHEN [0421]>0 THEN 1 ELSE 0 END AS [0421]\n",
    ",CASE WHEN [0422]>0 THEN 1 ELSE 0 END AS [0422]\n",
    ",CASE WHEN [0423]>0 THEN 1 ELSE 0 END AS [0423]\n",
    ",CASE WHEN [05  ]>0 THEN 1 ELSE 0 END AS [05  ]\n",
    ",CASE WHEN [0502]>0 THEN 1 ELSE 0 END AS [0502]\n",
    ",CASE WHEN [0503]>0 THEN 1 ELSE 0 END AS [0503]\n",
    ",CASE WHEN [0507]>0 THEN 1 ELSE 0 END AS [0507]\n",
    ",CASE WHEN [0508]>0 THEN 1 ELSE 0 END AS [0508]\n",
    ",CASE WHEN [0510]>0 THEN 1 ELSE 0 END AS [0510]\n",
    ",CASE WHEN [0511]>0 THEN 1 ELSE 0 END AS [0511]\n",
    ",CASE WHEN [0513]>0 THEN 1 ELSE 0 END AS [0513]\n",
    ",CASE WHEN [0514]>0 THEN 1 ELSE 0 END AS [0514]\n",
    ",CASE WHEN [0515]>0 THEN 1 ELSE 0 END AS [0515]\n",
    ",CASE WHEN [0521]>0 THEN 1 ELSE 0 END AS [0521]\n",
    ",CASE WHEN [0526]>0 THEN 1 ELSE 0 END AS [0526]\n",
    ",CASE WHEN [0527]>0 THEN 1 ELSE 0 END AS [0527]\n",
    ",CASE WHEN [0550]>0 THEN 1 ELSE 0 END AS [0550]\n",
    ",CASE WHEN [06  ]>0 THEN 1 ELSE 0 END AS [06  ]\n",
    ",CASE WHEN [0601]>0 THEN 1 ELSE 0 END AS [0601]\n",
    ",CASE WHEN [0602]>0 THEN 1 ELSE 0 END AS [0602]\n",
    ",CASE WHEN [0603]>0 THEN 1 ELSE 0 END AS [0603]\n",
    ",CASE WHEN [0605]>0 THEN 1 ELSE 0 END AS [0605]\n",
    ",CASE WHEN [0606]>0 THEN 1 ELSE 0 END AS [0606]\n",
    ",CASE WHEN [0607]>0 THEN 1 ELSE 0 END AS [0607]\n",
    ",CASE WHEN [0608]>0 THEN 1 ELSE 0 END AS [0608]\n",
    ",CASE WHEN [0609]>0 THEN 1 ELSE 0 END AS [0609]\n",
    ",CASE WHEN [061 ]>0 THEN 1 ELSE 0 END AS [061 ]\n",
    ",CASE WHEN [0610]>0 THEN 1 ELSE 0 END AS [0610]\n",
    ",CASE WHEN [0611]>0 THEN 1 ELSE 0 END AS [0611]\n",
    ",CASE WHEN [0621]>0 THEN 1 ELSE 0 END AS [0621]\n",
    ",CASE WHEN [0690]>0 THEN 1 ELSE 0 END AS [0690]\n",
    ",CASE WHEN [07  ]>0 THEN 1 ELSE 0 END AS [07  ]\n",
    ",CASE WHEN [0701]>0 THEN 1 ELSE 0 END AS [0701]\n",
    ",CASE WHEN [0702]>0 THEN 1 ELSE 0 END AS [0702]\n",
    ",CASE WHEN [0703]>0 THEN 1 ELSE 0 END AS [0703]\n",
    ",CASE WHEN [0704]>0 THEN 1 ELSE 0 END AS [0704]\n",
    ",CASE WHEN [0705]>0 THEN 1 ELSE 0 END AS [0705]\n",
    ",CASE WHEN [0707]>0 THEN 1 ELSE 0 END AS [0707]\n",
    ",CASE WHEN [0708]>0 THEN 1 ELSE 0 END AS [0708]\n",
    ",CASE WHEN [0709]>0 THEN 1 ELSE 0 END AS [0709]\n",
    ",CASE WHEN [0710]>0 THEN 1 ELSE 0 END AS [0710]\n",
    ",CASE WHEN [0711]>0 THEN 1 ELSE 0 END AS [0711]\n",
    ",CASE WHEN [0712]>0 THEN 1 ELSE 0 END AS [0712]\n",
    ",CASE WHEN [0713]>0 THEN 1 ELSE 0 END AS [0713]\n",
    ",CASE WHEN [0715]>0 THEN 1 ELSE 0 END AS [0715]\n",
    ",CASE WHEN [0717]>0 THEN 1 ELSE 0 END AS [0717]\n",
    ",CASE WHEN [0718]>0 THEN 1 ELSE 0 END AS [0718]\n",
    ",CASE WHEN [0719]>0 THEN 1 ELSE 0 END AS [0719]\n",
    ",CASE WHEN [0720]>0 THEN 1 ELSE 0 END AS [0720]\n",
    ",CASE WHEN [08  ]>0 THEN 1 ELSE 0 END AS [08  ]\n",
    ",CASE WHEN [0801]>0 THEN 1 ELSE 0 END AS [0801]\n",
    ",CASE WHEN [0802]>0 THEN 1 ELSE 0 END AS [0802]\n",
    ",CASE WHEN [0803]>0 THEN 1 ELSE 0 END AS [0803]\n",
    ",CASE WHEN [0804]>0 THEN 1 ELSE 0 END AS [0804]\n",
    ",CASE WHEN [0805]>0 THEN 1 ELSE 0 END AS [0805]\n",
    ",CASE WHEN [0806]>0 THEN 1 ELSE 0 END AS [0806]\n",
    ",CASE WHEN [0807]>0 THEN 1 ELSE 0 END AS [0807]\n",
    ",CASE WHEN [0808]>0 THEN 1 ELSE 0 END AS [0808]\n",
    ",CASE WHEN [0809]>0 THEN 1 ELSE 0 END AS [0809]\n",
    ",CASE WHEN [0810]>0 THEN 1 ELSE 0 END AS [0810]\n",
    ",CASE WHEN [0812]>0 THEN 1 ELSE 0 END AS [0812]\n",
    ",CASE WHEN [0813]>0 THEN 1 ELSE 0 END AS [0813]\n",
    ",CASE WHEN [0814]>0 THEN 1 ELSE 0 END AS [0814]\n",
    ",CASE WHEN [0860]>0 THEN 1 ELSE 0 END AS [0860]\n",
    ",CASE WHEN [09  ]>0 THEN 1 ELSE 0 END AS [09  ]\n",
    ",CASE WHEN [0901]>0 THEN 1 ELSE 0 END AS [0901]\n",
    ",CASE WHEN [0902]>0 THEN 1 ELSE 0 END AS [0902]\n",
    ",CASE WHEN [0903]>0 THEN 1 ELSE 0 END AS [0903]\n",
    ",CASE WHEN [0904]>0 THEN 1 ELSE 0 END AS [0904]\n",
    ",CASE WHEN [0905]>0 THEN 1 ELSE 0 END AS [0905]\n",
    ",CASE WHEN [0906]>0 THEN 1 ELSE 0 END AS [0906]\n",
    ",CASE WHEN [0907]>0 THEN 1 ELSE 0 END AS [0907]\n",
    ",CASE WHEN [0908]>0 THEN 1 ELSE 0 END AS [0908]\n",
    ",CASE WHEN [0909]>0 THEN 1 ELSE 0 END AS [0909]\n",
    ",CASE WHEN [0911]>0 THEN 1 ELSE 0 END AS [0911]\n",
    ",CASE WHEN [0912]>0 THEN 1 ELSE 0 END AS [0912]\n",
    ",CASE WHEN [0913]>0 THEN 1 ELSE 0 END AS [0913]\n",
    ",CASE WHEN [0915]>0 THEN 1 ELSE 0 END AS [0915]\n",
    ",CASE WHEN [0918]>0 THEN 1 ELSE 0 END AS [0918]\n",
    ",CASE WHEN [0919]>0 THEN 1 ELSE 0 END AS [0919]\n",
    ",CASE WHEN [0920]>0 THEN 1 ELSE 0 END AS [0920]\n",
    ",CASE WHEN [0921]>0 THEN 1 ELSE 0 END AS [0921]\n",
    ",CASE WHEN [0923]>0 THEN 1 ELSE 0 END AS [0923]\n",
    ",CASE WHEN [0924]>0 THEN 1 ELSE 0 END AS [0924]\n",
    ",CASE WHEN [0925]>0 THEN 1 ELSE 0 END AS [0925]\n",
    ",CASE WHEN [0929]>0 THEN 1 ELSE 0 END AS [0929]\n",
    ",CASE WHEN [0930]>0 THEN 1 ELSE 0 END AS [0930]\n",
    ",CASE WHEN [0931]>0 THEN 1 ELSE 0 END AS [0931]\n",
    ",CASE WHEN [0937]>0 THEN 1 ELSE 0 END AS [0937]\n",
    ",CASE WHEN [0941]>0 THEN 1 ELSE 0 END AS [0941]\n",
    ",CASE WHEN [10  ]>0 THEN 1 ELSE 0 END AS [10  ]\n",
    ",CASE WHEN [1000]>0 THEN 1 ELSE 0 END AS [1000]\n",
    ",CASE WHEN [1001]>0 THEN 1 ELSE 0 END AS [1001]\n",
    ",CASE WHEN [1002]>0 THEN 1 ELSE 0 END AS [1002]\n",
    ",CASE WHEN [1003]>0 THEN 1 ELSE 0 END AS [1003]\n",
    ",CASE WHEN [1004]>0 THEN 1 ELSE 0 END AS [1004]\n",
    ",CASE WHEN [1005]>0 THEN 1 ELSE 0 END AS [1005]\n",
    ",CASE WHEN [1007]>0 THEN 1 ELSE 0 END AS [1007]\n",
    ",CASE WHEN [1009]>0 THEN 1 ELSE 0 END AS [1009]\n",
    ",CASE WHEN [1010]>0 THEN 1 ELSE 0 END AS [1010]\n",
    ",CASE WHEN [1011]>0 THEN 1 ELSE 0 END AS [1011]\n",
    ",CASE WHEN [1012]>0 THEN 1 ELSE 0 END AS [1012]\n",
    ",CASE WHEN [1013]>0 THEN 1 ELSE 0 END AS [1013]\n",
    ",CASE WHEN [1014]>0 THEN 1 ELSE 0 END AS [1014]\n",
    ",CASE WHEN [1015]>0 THEN 1 ELSE 0 END AS [1015]\n",
    ",CASE WHEN [1020]>0 THEN 1 ELSE 0 END AS [1020]\n",
    ",CASE WHEN [1023]>0 THEN 1 ELSE 0 END AS [1023]\n",
    ",CASE WHEN [1024]>0 THEN 1 ELSE 0 END AS [1024]\n",
    ",CASE WHEN [12  ]>0 THEN 1 ELSE 0 END AS [12  ]\n",
    ",CASE WHEN [1201]>0 THEN 1 ELSE 0 END AS [1201]\n",
    ",CASE WHEN [1202]>0 THEN 1 ELSE 0 END AS [1202]\n",
    ",CASE WHEN [1203]>0 THEN 1 ELSE 0 END AS [1203]\n",
    ",CASE WHEN [1204]>0 THEN 1 ELSE 0 END AS [1204]\n",
    ",CASE WHEN [1205]>0 THEN 1 ELSE 0 END AS [1205]\n",
    ",CASE WHEN [1207]>0 THEN 1 ELSE 0 END AS [1207]\n",
    ",CASE WHEN [1208]>0 THEN 1 ELSE 0 END AS [1208]\n",
    ",CASE WHEN [1209]>0 THEN 1 ELSE 0 END AS [1209]\n",
    ",CASE WHEN [1213]>0 THEN 1 ELSE 0 END AS [1213]\n",
    ",CASE WHEN [1215]>0 THEN 1 ELSE 0 END AS [1215]\n",
    ",CASE WHEN [1219]>0 THEN 1 ELSE 0 END AS [1219]\n",
    ",CASE WHEN [1226]>0 THEN 1 ELSE 0 END AS [1226]\n",
    ",CASE WHEN [1227]>0 THEN 1 ELSE 0 END AS [1227]\n",
    ",CASE WHEN [1228]>0 THEN 1 ELSE 0 END AS [1228]\n",
    ",CASE WHEN [1242]>0 THEN 1 ELSE 0 END AS [1242]\n",
    ",CASE WHEN [1244]>0 THEN 1 ELSE 0 END AS [1244]\n",
    ",CASE WHEN [1245]>0 THEN 1 ELSE 0 END AS [1245]\n",
    ",CASE WHEN [1254]>0 THEN 1 ELSE 0 END AS [1254]\n",
    ",CASE WHEN [14  ]>0 THEN 1 ELSE 0 END AS [14  ]\n",
    ",CASE WHEN [1434]>0 THEN 1 ELSE 0 END AS [1434]\n",
    ",CASE WHEN [1435]>0 THEN 1 ELSE 0 END AS [1435]\n",
    ",CASE WHEN [1436]>0 THEN 1 ELSE 0 END AS [1436]\n",
    ",CASE WHEN [1437]>0 THEN 1 ELSE 0 END AS [1437]\n",
    ",CASE WHEN [1451]>0 THEN 1 ELSE 0 END AS [1451]\n",
    ",CASE WHEN [1452]>0 THEN 1 ELSE 0 END AS [1452]\n",
    ",CASE WHEN [1454]>0 THEN 1 ELSE 0 END AS [1454]\n",
    ",CASE WHEN [1455]>0 THEN 1 ELSE 0 END AS [1455]\n",
    ",CASE WHEN [1456]>0 THEN 1 ELSE 0 END AS [1456]\n",
    ",CASE WHEN [1457]>0 THEN 1 ELSE 0 END AS [1457]\n",
    ",CASE WHEN [1459]>0 THEN 1 ELSE 0 END AS [1459]\n",
    ",CASE WHEN [1469]>0 THEN 1 ELSE 0 END AS [1469]\n",
    ",CASE WHEN [15  ]>0 THEN 1 ELSE 0 END AS [15  ]\n",
    ",CASE WHEN [1501]>0 THEN 1 ELSE 0 END AS [1501]\n",
    ",CASE WHEN [1502]>0 THEN 1 ELSE 0 END AS [1502]\n",
    ",CASE WHEN [1503]>0 THEN 1 ELSE 0 END AS [1503]\n",
    ",CASE WHEN [1504]>0 THEN 1 ELSE 0 END AS [1504]\n",
    ",CASE WHEN [1505]>0 THEN 1 ELSE 0 END AS [1505]\n",
    ",CASE WHEN [1507]>0 THEN 1 ELSE 0 END AS [1507]\n",
    ",CASE WHEN [1508]>0 THEN 1 ELSE 0 END AS [1508]\n",
    ",CASE WHEN [1511]>0 THEN 1 ELSE 0 END AS [1511]\n",
    ",CASE WHEN [1513]>0 THEN 1 ELSE 0 END AS [1513]\n",
    ",CASE WHEN [16]>0 THEN 1 ELSE 0 END AS [16]\n",
    ",CASE WHEN [1600]>0 THEN 1 ELSE 0 END AS [1600]\n",
    ",CASE WHEN [1601]>0 THEN 1 ELSE 0 END AS [1601]\n",
    ",CASE WHEN [1602]>0 THEN 1 ELSE 0 END AS [1602]\n",
    ",CASE WHEN [1603]>0 THEN 1 ELSE 0 END AS [1603]\n",
    ",CASE WHEN [1605]>0 THEN 1 ELSE 0 END AS [1605]\n",
    ",CASE WHEN [1609]>0 THEN 1 ELSE 0 END AS [1609]\n",
    ",CASE WHEN [1611]>0 THEN 1 ELSE 0 END AS [1611]\n",
    ",CASE WHEN [1614]>0 THEN 1 ELSE 0 END AS [1614]\n",
    ",CASE WHEN [1619]>0 THEN 1 ELSE 0 END AS [1619]\n",
    ",CASE WHEN [1620]>0 THEN 1 ELSE 0 END AS [1620]\n",
    ",CASE WHEN [1621]>0 THEN 1 ELSE 0 END AS [1621]\n",
    ",CASE WHEN [1623]>0 THEN 1 ELSE 0 END AS [1623]\n",
    ",CASE WHEN [1625]>0 THEN 1 ELSE 0 END AS [1625]\n",
    ",CASE WHEN [1626]>0 THEN 1 ELSE 0 END AS [1626]\n",
    ",CASE WHEN [1629]>0 THEN 1 ELSE 0 END AS [1629]\n",
    ",CASE WHEN [1632]>0 THEN 1 ELSE 0 END AS [1632]\n",
    ",CASE WHEN [1634]>0 THEN 1 ELSE 0 END AS [1634]\n",
    ",CASE WHEN [1635]>0 THEN 1 ELSE 0 END AS [1635]\n",
    ",CASE WHEN [1636]>0 THEN 1 ELSE 0 END AS [1636]\n",
    ",CASE WHEN [1640]>0 THEN 1 ELSE 0 END AS [1640]\n",
    ",CASE WHEN [1642]>0 THEN 1 ELSE 0 END AS [1642]\n",
    ",CASE WHEN [1643]>0 THEN 1 ELSE 0 END AS [1643]\n",
    ",CASE WHEN [1644]>0 THEN 1 ELSE 0 END AS [1644]\n",
    ",CASE WHEN [1645]>0 THEN 1 ELSE 0 END AS [1645]\n",
    ",CASE WHEN [1646]>0 THEN 1 ELSE 0 END AS [1646]\n",
    ",CASE WHEN [1647]>0 THEN 1 ELSE 0 END AS [1647]\n",
    ",CASE WHEN [1652]>0 THEN 1 ELSE 0 END AS [1652]\n",
    ",CASE WHEN [1654]>0 THEN 1 ELSE 0 END AS [1654]\n",
    ",CASE WHEN [1655]>0 THEN 1 ELSE 0 END AS [1655]\n",
    ",CASE WHEN [1685]>0 THEN 1 ELSE 0 END AS [1685]\n",
    ",CASE WHEN [18  ]>0 THEN 1 ELSE 0 END AS [18  ]\n",
    ",CASE WHEN [1801]>0 THEN 1 ELSE 0 END AS [1801]\n",
    ",CASE WHEN [1802]>0 THEN 1 ELSE 0 END AS [1802]\n",
    ",CASE WHEN [1803]>0 THEN 1 ELSE 0 END AS [1803]\n",
    ",CASE WHEN [1807]>0 THEN 1 ELSE 0 END AS [1807]\n",
    ",CASE WHEN [1822]>0 THEN 1 ELSE 0 END AS [1822]\n",
    ",CASE WHEN [1891]>0 THEN 1 ELSE 0 END AS [1891]\n",
    ",CASE WHEN [2018]>0 THEN 1 ELSE 0 END AS [2018]\n",
    ",CASE WHEN [21]>0 THEN 1 ELSE 0 END AS [21]\n",
    ",CASE WHEN [2103]>0 THEN 1 ELSE 0 END AS [2103]\n",
    ",CASE WHEN [2104]>0 THEN 1 ELSE 0 END AS [2104]\n",
    ",CASE WHEN [2105]>0 THEN 1 ELSE 0 END AS [2105]\n",
    ",CASE WHEN [2106]>0 THEN 1 ELSE 0 END AS [2106]\n",
    ",CASE WHEN [2108]>0 THEN 1 ELSE 0 END AS [2108]\n",
    ",CASE WHEN [2109]>0 THEN 1 ELSE 0 END AS [2109]\n",
    ",CASE WHEN [211 ]>0 THEN 1 ELSE 0 END AS [211 ]\n",
    ",CASE WHEN [2114]>0 THEN 1 ELSE 0 END AS [2114]\n",
    ",CASE WHEN [2115]>0 THEN 1 ELSE 0 END AS [2115]\n",
    ",CASE WHEN [2122]>0 THEN 1 ELSE 0 END AS [2122]\n",
    ",CASE WHEN [2131]>0 THEN 1 ELSE 0 END AS [2131]\n",
    ",CASE WHEN [2144]>0 THEN 1 ELSE 0 END AS [2144]\n",
    ",CASE WHEN [2145]>0 THEN 1 ELSE 0 END AS [2145]\n",
    ",CASE WHEN [2163]>0 THEN 1 ELSE 0 END AS [2163]\n",
    ",CASE WHEN [2177]>0 THEN 1 ELSE 0 END AS [2177]\n",
    ",CASE WHEN [22  ]>0 THEN 1 ELSE 0 END AS [22  ]\n",
    ",CASE WHEN [2211]>0 THEN 1 ELSE 0 END AS [2211]\n",
    ",CASE WHEN [2241]>0 THEN 1 ELSE 0 END AS [2241]\n",
    ",CASE WHEN [2324]>0 THEN 1 ELSE 0 END AS [2324]\n",
    ",CASE WHEN [24]>0 THEN 1 ELSE 0 END AS [24]\n",
    ",CASE WHEN [2401]>0 THEN 1 ELSE 0 END AS [2401]\n",
    ",CASE WHEN [2402]>0 THEN 1 ELSE 0 END AS [2402]\n",
    ",CASE WHEN [2403]>0 THEN 1 ELSE 0 END AS [2403]\n",
    ",CASE WHEN [2404]>0 THEN 1 ELSE 0 END AS [2404]\n",
    ",CASE WHEN [2405]>0 THEN 1 ELSE 0 END AS [2405]\n",
    ",CASE WHEN [2406]>0 THEN 1 ELSE 0 END AS [2406]\n",
    ",CASE WHEN [2407]>0 THEN 1 ELSE 0 END AS [2407]\n",
    ",CASE WHEN [241 ]>0 THEN 1 ELSE 0 END AS [241 ]\n",
    ",CASE WHEN [3175]>0 THEN 1 ELSE 0 END AS [3175]\n",
    ",CASE WHEN [4454]>0 THEN 1 ELSE 0 END AS [4454]\n",
    ",CASE WHEN [6006]>0 THEN 1 ELSE 0 END AS [6006]\n",
    ",CASE WHEN [91  ]>0 THEN 1 ELSE 0 END AS [91  ]\n",
    ",CASE WHEN [9101]>0 THEN 1 ELSE 0 END AS [9101]\n",
    ",CASE WHEN [93  ]>0 THEN 1 ELSE 0 END AS [93  ]\n",
    ",CASE WHEN [9300]>0 THEN 1 ELSE 0 END AS [9300]\n",
    ",CASE WHEN [9301]>0 THEN 1 ELSE 0 END AS [9301]\n",
    ",CASE WHEN [9303]>0 THEN 1 ELSE 0 END AS [9303]\n",
    ",CASE WHEN [9304]>0 THEN 1 ELSE 0 END AS [9304]\n",
    ",CASE WHEN [9305]>0 THEN 1 ELSE 0 END AS [9305]\n",
    ",CASE WHEN [9306]>0 THEN 1 ELSE 0 END AS [9306]\n",
    ",CASE WHEN [9307]>0 THEN 1 ELSE 0 END AS [9307]\n",
    ",CASE WHEN [9308]>0 THEN 1 ELSE 0 END AS [9308]\n",
    ",CASE WHEN [9309]>0 THEN 1 ELSE 0 END AS [9309]\n",
    ",CASE WHEN [9310]>0 THEN 1 ELSE 0 END AS [9310]\n",
    ",CASE WHEN [95]>0 THEN 1 ELSE 0 END AS [95]\n",
    ",CASE WHEN [9501]>0 THEN 1 ELSE 0 END AS [9501]\n",
    ",CASE WHEN [9999]>0 THEN 1 ELSE 0 END AS [9999]\n",
    "from(select *\n",
    "\tFROM\t(SELECT a.ITG_USER_ID,LEFT(ENR_CATE_CODE,4) AS MCATE\n",
    "                   ,CASE WHEN USER_GENDER_CODE = 'M' THEN 0\n",
    "\t\t\t\t\t\t WHEN USER_GENDER_CODE = 'F' THEN 1\n",
    "\t\t\t\t\t\t ELSE 2 END AS GENDER_CODE\n",
    "                   ,count(*) as cnt\n",
    "                   ,SUM(CASE WHEN COUNT(*) > 0 THEN 1 \n",
    "\t\t\t\t\t    WHEN COUNT(*) IS NULL THEN 0\n",
    "\t\t\t\t        ELSE 0 END) OVER (PARTITION BY a.ITG_USER_ID) AS FILTER\n",
    "\t\t\tFROM ASAS_BUY_TRN AS A WITH(NOLOCK) \n",
    "           -- inner join MIDW.DBO.ITG_USER_DEMO_BSC as b WITH(NOLOCK) \n",
    "           -- on a.itg_user_id =b.itg_user_id \n",
    "           where-- CERTIFY_YN <> 'N' and \n",
    "           ENR_CATE_CODE not in ('00','','_','00000000') AND BUY_DATE BETWEEN '20190901' AND  '20200631'\n",
    "\t\t\tGROUP BY a.ITG_USER_ID,LEFT(ENR_CATE_CODE,4),CASE WHEN USER_GENDER_CODE = 'M' THEN 0\n",
    "\t\t\t\t\t\t\t\t\t\t\t\t\t\t\t  WHEN USER_GENDER_CODE = 'F' THEN 1\n",
    "\t\t\t\t\t\t\t\t\t\t\t\t\t\t\t  ELSE 2 END\n",
    "\t\t\t) AS H\n",
    "\t\t\tPIVOT  (MAX(cnt)\n",
    "\t\t\t\t\tFOR MCATE IN ( [02],\t[0201],\t[0203],\t[0204],\t[0208],\t[0211],\t[0215],\t[0220],\t[0224],\t[0232],\t[0233],\t[0234],\t[0235],\t[0236],\t[0237],\t[0238],\t[0239],\t[0240],\t[0241],\t[0283],\t[03  ],\t[0304],\t[0305],\t[0308],\t[0318],\t[0357],\t[0359],\t[0360],\t[0362],\t[0363],\t[0364],\t[04  ],\t[0401],\t[0402],\t[0404],\t[0405],\t[0408],\t[0414],\t[0418],\t[0420],\t[0421],\t[0422],\t[0423],\t[05  ],\t[0502],\t[0503],\t[0507],\t[0508],\t[0510],\t[0511],\t[0513],\t[0514],\t[0515],\t[0521],\t[0526],\t[0527],\t[0550],\t[06  ],\t[0601],\t[0602],\t[0603],\t[0605],\t[0606],\t[0607],\t[0608],\t[0609],\t[061 ],\t[0610],\t[0611],\t[0621],\t[0690],\t[07  ],\t[0701],\t[0702],\t[0703],\t[0704],\t[0705],\t[0707],\t[0708],\t[0709],\t[0710],\t[0711],\t[0712],\t[0713],\t[0715],\t[0717],\t[0718],\t[0719],\t[0720],\t[08  ],\t[0801],\t[0802],\t[0803],\t[0804],\t[0805],\t[0806],\t[0807],\t[0808],\t[0809],\t[0810],\t[0812],\t[0813],\t[0814],\t[0860],\t[09  ],\t[0901],\t[0902],\t[0903],\t[0904],\t[0905],\t[0906],\t[0907],\t[0908],\t[0909],\t[0911],\t[0912],\t[0913],\t[0915],\t[0918],\t[0919],\t[0920],\t[0921],\t[0923],\t[0924],\t[0925],\t[0929],\t[0930],\t[0931],\t[0937],\t[0941],\t[10  ],\t[1000],\t[1001],\t[1002],\t[1003],\t[1004],\t[1005],\t[1007],\t[1009],\t[1010],\t[1011],\t[1012],\t[1013],\t[1014],\t[1015],\t[1020],\t[1023],\t[1024],\t[12  ],\t[1201],\t[1202],\t[1203],\t[1204],\t[1205],\t[1207],\t[1208],\t[1209],\t[1213],\t[1215],\t[1219],\t[1226],\t[1227],\t[1228],\t[1242],\t[1244],\t[1245],\t[1254],\t[14  ],\t[1434],\t[1435],\t[1436],\t[1437],\t[1451],\t[1452],\t[1454],\t[1455],\t[1456],\t[1457],\t[1459],\t[1469],\t[15  ],\t[1501],\t[1502],\t[1503],\t[1504],\t[1505],\t[1507],\t[1508],\t[1511],\t[1513],\t[16],\t[1600],\t[1601],\t[1602],\t[1603],\t[1605],\t[1609],\t[1611],\t[1614],\t[1619],\t[1620],\t[1621],\t[1623],\t[1625],\t[1626],\t[1629],\t[1632],\t[1634],\t[1635],\t[1636],\t[1640],\t[1642],\t[1643],\t[1644],\t[1645],\t[1646],\t[1647],\t[1652],\t[1654],\t[1655],\t[1685],\t[18  ],\t[1801],\t[1802],\t[1803],\t[1807],\t[1822],\t[1891],\t[2018],\t[21],\t[2103],\t[2104],\t[2105],\t[2106],\t[2108],\t[2109],\t[211 ],\t[2114],\t[2115],\t[2122],\t[2131],\t[2144],\t[2145],\t[2163],\t[2177],\t[22  ],\t[2211],\t[2241],\t[2324],\t[24],\t[2401],\t[2402],\t[2403],\t[2404],\t[2405],\t[2406],\t[2407],\t[241 ],\t[3175],\t[4454],\t[6006],\t[91  ],\t[9101],\t[93  ],\t[9300],\t[9301],\t[9303],\t[9304],\t[9305],\t[9306],\t[9307],\t[9308],\t[9309],\t[9310],\t[95],\t[9501],\t[9999]\n",
    ")   \n",
    "\t\t\t\t\t) AS PVT\n",
    "\t\t\t\t) as HH\n",
    "WHERE FILTER >=2\n",
    "OPTION (MAXDOP 3)'''\n",
    "data=pd.read_sql(query,conn)\n",
    "print(\"Runtime: %0.2f Minutes\"%((time.time() - start_vect)/60))\n",
    "\n",
    "conn.close()"
   ]
  },
  {
   "cell_type": "code",
   "execution_count": 45,
   "metadata": {
    "scrolled": false
   },
   "outputs": [
    {
     "data": {
      "text/plain": [
       "442486"
      ]
     },
     "execution_count": 45,
     "metadata": {},
     "output_type": "execute_result"
    }
   ],
   "source": [
    "data.head()\n",
    "len(data)"
   ]
  },
  {
   "cell_type": "code",
   "execution_count": 39,
   "metadata": {
    "collapsed": true
   },
   "outputs": [],
   "source": [
    "data = data.drop(['ITG_USER_ID'], axis = 1) # id 제거"
   ]
  },
  {
   "cell_type": "code",
   "execution_count": 41,
   "metadata": {
    "collapsed": true
   },
   "outputs": [],
   "source": [
    "feature_columns = list(data.columns.difference(['GENDER_CODE'])) # target을 제외한 모든 행\n",
    "X = data[feature_columns] # 설명변수\n",
    "# y = data['GENDER_CODE'] # 타겟변수"
   ]
  },
  {
   "cell_type": "code",
   "execution_count": 42,
   "metadata": {
    "collapsed": true
   },
   "outputs": [],
   "source": [
    "predict4 = model4.predict(X) # 평가 데이터 예측"
   ]
  },
  {
   "cell_type": "code",
   "execution_count": 44,
   "metadata": {},
   "outputs": [
    {
     "data": {
      "text/plain": [
       "442486"
      ]
     },
     "execution_count": 44,
     "metadata": {},
     "output_type": "execute_result"
    }
   ],
   "source": [
    "len(predict4)"
   ]
  },
  {
   "cell_type": "code",
   "execution_count": 46,
   "metadata": {
    "scrolled": true
   },
   "outputs": [
    {
     "data": {
      "text/plain": [
       "array([0, 1, 1, ..., 0, 1, 0])"
      ]
     },
     "execution_count": 46,
     "metadata": {},
     "output_type": "execute_result"
    }
   ],
   "source": [
    "predict4"
   ]
  },
  {
   "cell_type": "markdown",
   "metadata": {},
   "source": [
    "# 업데이트는 치되, proc_state_code에 U로 남기자"
   ]
  },
  {
   "cell_type": "code",
   "execution_count": 48,
   "metadata": {
    "collapsed": true,
    "scrolled": true
   },
   "outputs": [],
   "source": [
    "predict4 = pd.DataFrame([predict4]).T\n",
    "predict4 = predict4.rename(columns={0:\"NEW_GENDER_CODE\"})\n",
    "predict4.reset_index(drop=False,inplace=False)"
   ]
  },
  {
   "cell_type": "code",
   "execution_count": null,
   "metadata": {
    "collapsed": true
   },
   "outputs": [],
   "source": [
    "predict4"
   ]
  }
 ],
 "metadata": {
  "kernelspec": {
   "display_name": "Python 3",
   "language": "python",
   "name": "python3"
  },
  "language_info": {
   "codemirror_mode": {
    "name": "ipython",
    "version": 3
   },
   "file_extension": ".py",
   "mimetype": "text/x-python",
   "name": "python",
   "nbconvert_exporter": "python",
   "pygments_lexer": "ipython3",
   "version": "3.7.4"
  }
 },
 "nbformat": 4,
 "nbformat_minor": 2
}
